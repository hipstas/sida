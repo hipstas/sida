{
 "cells": [
  {
   "cell_type": "code",
   "execution_count": null,
   "metadata": {},
   "outputs": [],
   "source": [
    "#!pip install moviepy\n",
    "from moviepy.audio.io import AudioFileClip\n",
    "import os"
   ]
  },
  {
   "cell_type": "code",
   "execution_count": null,
   "metadata": {},
   "outputs": [],
   "source": []
  },
  {
   "cell_type": "code",
   "execution_count": null,
   "metadata": {},
   "outputs": [],
   "source": [
    "## Creating WAVs from labeled segments\n",
    "## & placing them in labeled directories\n",
    "\n",
    "import csv\n",
    "\n",
    "csv_path='The_Gist_with_speaker_labels_June_2017/Mike_Pesca_The_Gist_1200_labels_June-15-2017.csv'\n",
    "\n",
    "label_table=[]\n",
    "\n",
    "with open(csv_path, 'rb') as csvfile:\n",
    "    reader = csv.reader(csvfile)\n",
    "    for row in reader:\n",
    "        label_table.append(row)\n",
    "\n",
    "label_table[:3]"
   ]
  },
  {
   "cell_type": "code",
   "execution_count": null,
   "metadata": {},
   "outputs": [],
   "source": [
    "counter=0\n",
    "\n",
    "for row in label_table:\n",
    "    try:\n",
    "        file_id, start, duration, label = row\n",
    "        start=float(start)\n",
    "        duration=float(duration)\n",
    "        media_path='The_Gist_with_speaker_labels_June_2017/media/'+file_id+'.mp3'\n",
    "        os.system('mkdir -p media_clips/'+label.replace(' ','_'))\n",
    "        snd = AudioFileClip.AudioFileClip(media_path)\n",
    "        snd.subclip(start,start+duration).write_audiofile('media_clips/'+label.replace(' ','_')+'/'+file_id+'_'+str(start)+'.wav')\n",
    "    except:\n",
    "        print(\"ERROR: \"+str(row))\n",
    "    counter+=1\n",
    "    print(\"** \"+str(counter))"
   ]
  },
  {
   "cell_type": "code",
   "execution_count": null,
   "metadata": {},
   "outputs": [],
   "source": [
    "!ffmpeg -i The_Gist_with_speaker_labels_June_2017/media/SM7903339130.mp3 "
   ]
  },
  {
   "cell_type": "code",
   "execution_count": null,
   "metadata": {},
   "outputs": [],
   "source": []
  },
  {
   "cell_type": "code",
   "execution_count": null,
   "metadata": {
    "collapsed": true
   },
   "outputs": [],
   "source": [
    "\n",
    "from pyAudioAnalysis import audioSegmentation as aS\n",
    "\n",
    "wav_path='SM5670114083_387.0.wav'\n",
    "\n",
    "gender_output, gender_classes, acc, CM = aS.mtFileClassification(wav_path, 'models/knnSpeakerFemaleMale', \"knn\")\n",
    "\n",
    "print(gender_classes)\n",
    "print(gender_output)"
   ]
  },
  {
   "cell_type": "code",
   "execution_count": null,
   "metadata": {
    "collapsed": true
   },
   "outputs": [],
   "source": []
  },
  {
   "cell_type": "code",
   "execution_count": 11,
   "metadata": {},
   "outputs": [
    {
     "name": "stdout",
     "output_type": "stream",
     "text": [
      "/sharedfolder\r\n"
     ]
    }
   ],
   "source": []
  },
  {
   "cell_type": "code",
   "execution_count": 13,
   "metadata": {},
   "outputs": [
    {
     "data": {
      "text/plain": [
       "[['SM9881315832_977.0', '0.0', '1.0', 'Male'],\n",
       " ['SM9881315832_866.0', '0.0', '1.0', 'Male'],\n",
       " ['SM9881315832_842.0', '0.0', '1.0', 'Male']]"
      ]
     },
     "execution_count": 13,
     "metadata": {},
     "output_type": "execute_result"
    }
   ],
   "source": [
    "### Sorting by gender with hand labels\n",
    "import csv\n",
    "\n",
    "csv_path=\"The_Gist_with_speaker_labels_June_2017/Gist_male_female_labels.csv\"\n",
    "\n",
    "gender_table=[]\n",
    "\n",
    "with open(csv_path, 'rb') as csvfile:\n",
    "    reader = csv.reader(csvfile)\n",
    "    for row in reader:\n",
    "        gender_table.append(row)\n",
    "\n",
    "gender_table[:3]"
   ]
  },
  {
   "cell_type": "code",
   "execution_count": 15,
   "metadata": {},
   "outputs": [],
   "source": [
    "import shutil\n",
    "\n",
    "for row in gender_table:\n",
    "    file_id=row[0]\n",
    "    if row[-1]=='Male':\n",
    "        shutil.copy(\"Gist_labeled_clips_June_16_2017/Background_Speaker/\"+file_id+'.wav',\\\n",
    "            \"Gist_labeled_clips_June_16_2017/Background_male\")\n",
    "    elif row[-1]=='Female':\n",
    "        shutil.copy(\"Gist_labeled_clips_June_16_2017/Background_Speaker/\"+file_id+'.wav',\\\n",
    "            \"Gist_labeled_clips_June_16_2017/Background_female\")\n",
    "    else: print(str(row))"
   ]
  },
  {
   "cell_type": "code",
   "execution_count": null,
   "metadata": {
    "collapsed": true
   },
   "outputs": [],
   "source": []
  },
  {
   "cell_type": "code",
   "execution_count": null,
   "metadata": {
    "collapsed": true
   },
   "outputs": [],
   "source": []
  },
  {
   "cell_type": "code",
   "execution_count": null,
   "metadata": {
    "collapsed": true
   },
   "outputs": [],
   "source": []
  },
  {
   "cell_type": "code",
   "execution_count": null,
   "metadata": {
    "collapsed": true
   },
   "outputs": [],
   "source": []
  },
  {
   "cell_type": "code",
   "execution_count": null,
   "metadata": {
    "collapsed": true
   },
   "outputs": [],
   "source": []
  },
  {
   "cell_type": "code",
   "execution_count": null,
   "metadata": {
    "collapsed": true
   },
   "outputs": [],
   "source": [
    "\"Gist_labeled_clips_June_16_2017/Background_female\""
   ]
  }
 ],
 "metadata": {
  "kernelspec": {
   "display_name": "Python 2",
   "language": "python",
   "name": "python2"
  },
  "language_info": {
   "codemirror_mode": {
    "name": "ipython",
    "version": 2
   },
   "file_extension": ".py",
   "mimetype": "text/x-python",
   "name": "python",
   "nbconvert_exporter": "python",
   "pygments_lexer": "ipython2",
   "version": "2.7.6"
  }
 },
 "nbformat": 4,
 "nbformat_minor": 2
}
