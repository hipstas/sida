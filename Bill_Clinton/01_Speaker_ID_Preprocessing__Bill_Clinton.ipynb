{
 "cells": [
  {
   "cell_type": "markdown",
   "metadata": {},
   "source": [
    "# SIDA: Speaker Identification for Archives\n",
    "## Bill Clinton"
   ]
  },
  {
   "cell_type": "code",
   "execution_count": 15,
   "metadata": {
    "collapsed": true
   },
   "outputs": [],
   "source": [
    "%%capture\n",
    "\n",
    "!pip install git+git://github.com/hipstas/audio-tagging-toolkit.git"
   ]
  },
  {
   "cell_type": "code",
   "execution_count": 1,
   "metadata": {
    "collapsed": true
   },
   "outputs": [],
   "source": [
    "import attk\n",
    "import os\n",
    "import csv\n",
    "import numpy as np\n",
    "import librosa\n",
    "import timeit\n",
    "import random\n",
    "import subprocess\n",
    "import unicodecsv\n",
    "import urllib2\n",
    "from sklearn.externals import joblib\n",
    "from numpy import ma\n",
    "from aubio import source, pitch\n",
    "from moviepy.audio.io import AudioFileClip\n",
    "from IPython.display import display, Audio\n",
    "import pandas as pd\n",
    "\n",
    "## Download audio files for training\n",
    "#### (You may want to comment out the lines below once the download is complete.)\n",
    "\n",
    "training_audio_dir_name = \"Bill_Clinton_Classifier\"\n",
    "\n",
    "classifier_dir_pathname = '/sharedfolder/' + training_audio_dir_name + '/'\n",
    "\n",
    "try: os.mkdir(classifier_dir_pathname)\n",
    "except: pass\n",
    "\n",
    "os.chdir(classifier_dir_pathname)"
   ]
  },
  {
   "cell_type": "code",
   "execution_count": null,
   "metadata": {
    "collapsed": true
   },
   "outputs": [],
   "source": [
    "%%capture\n",
    "## Download audio files for training\n",
    "#### (You may want to comment out the lines below once the download is complete.)\n",
    "\n",
    "#!wget -N http://xtra.arloproject.com/datasets/audio/Bill_Clinton_Speeches_UVA_Miller_Center.zip\n",
    "#!unzip Bill_Clinton_Speeches_UVA_Miller_Center.zip\n",
    "\n",
    "# Background Model vowels\n",
    "#!wget -N http://xtra.arloproject.com/datasets/aapb-ubm/Female_AAPB_vowels_171110.zip\n",
    "#!wget -N http://xtra.arloproject.com/datasets/aapb-ubm/Male_AAPB_vowels_171110.zip\n",
    "\n",
    "#!unzip Female_AAPB_vowels_171110.zip\n",
    "#!unzip Male_AAPB_vowels_171110.zip"
   ]
  },
  {
   "cell_type": "code",
   "execution_count": null,
   "metadata": {
    "collapsed": true
   },
   "outputs": [],
   "source": []
  },
  {
   "cell_type": "code",
   "execution_count": null,
   "metadata": {
    "collapsed": true
   },
   "outputs": [],
   "source": [
    "## Renaming UBM audio clips to generic 'Male' and 'Female'\n",
    "\n",
    "!mkdir Male\n",
    "!mkdir Female\n",
    "\n",
    "!mv Male_AAPB_vowels_171110 Male/_vowel_clips/\n",
    "!mv Female_AAPB_vowels_171110 Female/_vowel_clips/"
   ]
  },
  {
   "cell_type": "code",
   "execution_count": 2,
   "metadata": {},
   "outputs": [
    {
     "data": {
      "text/html": [
       "<div>\n",
       "<style>\n",
       "    .dataframe thead tr:only-child th {\n",
       "        text-align: right;\n",
       "    }\n",
       "\n",
       "    .dataframe thead th {\n",
       "        text-align: left;\n",
       "    }\n",
       "\n",
       "    .dataframe tbody tr th {\n",
       "        vertical-align: top;\n",
       "    }\n",
       "</style>\n",
       "<table border=\"1\" class=\"dataframe\">\n",
       "  <thead>\n",
       "    <tr style=\"text-align: right;\">\n",
       "      <th></th>\n",
       "      <th>Media file basename</th>\n",
       "      <th>Start</th>\n",
       "      <th>Duration</th>\n",
       "      <th>Label</th>\n",
       "      <th>Labeled by</th>\n",
       "    </tr>\n",
       "  </thead>\n",
       "  <tbody>\n",
       "    <tr>\n",
       "      <th>0</th>\n",
       "      <td>spe_1995_0423_clinton</td>\n",
       "      <td>40.0</td>\n",
       "      <td>1.0</td>\n",
       "      <td>Bill Clinton</td>\n",
       "      <td>Stephen Reid McLaughlin</td>\n",
       "    </tr>\n",
       "    <tr>\n",
       "      <th>1</th>\n",
       "      <td>spe_1995_1127_clinton</td>\n",
       "      <td>237.0</td>\n",
       "      <td>1.0</td>\n",
       "      <td>Bill Clinton</td>\n",
       "      <td>Stephen Reid McLaughlin</td>\n",
       "    </tr>\n",
       "    <tr>\n",
       "      <th>2</th>\n",
       "      <td>spe_1995_1016_clinton</td>\n",
       "      <td>1044.0</td>\n",
       "      <td>1.0</td>\n",
       "      <td>Bill Clinton</td>\n",
       "      <td>Stephen Reid McLaughlin</td>\n",
       "    </tr>\n",
       "    <tr>\n",
       "      <th>3</th>\n",
       "      <td>spe_1995_0124_clinton</td>\n",
       "      <td>2955.0</td>\n",
       "      <td>1.0</td>\n",
       "      <td>Bill Clinton</td>\n",
       "      <td>Stephen Reid McLaughlin</td>\n",
       "    </tr>\n",
       "    <tr>\n",
       "      <th>4</th>\n",
       "      <td>spe_1996_1103_clinton</td>\n",
       "      <td>437.0</td>\n",
       "      <td>1.0</td>\n",
       "      <td>Bill Clinton</td>\n",
       "      <td>Stephen Reid McLaughlin</td>\n",
       "    </tr>\n",
       "  </tbody>\n",
       "</table>\n",
       "</div>"
      ],
      "text/plain": [
       "     Media file basename   Start  Duration         Label  \\\n",
       "0  spe_1995_0423_clinton    40.0       1.0  Bill Clinton   \n",
       "1  spe_1995_1127_clinton   237.0       1.0  Bill Clinton   \n",
       "2  spe_1995_1016_clinton  1044.0       1.0  Bill Clinton   \n",
       "3  spe_1995_0124_clinton  2955.0       1.0  Bill Clinton   \n",
       "4  spe_1996_1103_clinton   437.0       1.0  Bill Clinton   \n",
       "\n",
       "                Labeled by  \n",
       "0  Stephen Reid McLaughlin  \n",
       "1  Stephen Reid McLaughlin  \n",
       "2  Stephen Reid McLaughlin  \n",
       "3  Stephen Reid McLaughlin  \n",
       "4  Stephen Reid McLaughlin  "
      ]
     },
     "execution_count": 2,
     "metadata": {},
     "output_type": "execute_result"
    }
   ],
   "source": [
    "## Download new 1-second labels\n",
    "\n",
    "csv_url = \"https://raw.githubusercontent.com/hipstas/aapb-speaker-labels/master/speaker_labels_randomized/Bill_Clinton/Bill_Clinton_Miller_Center_Labels.csv\"\n",
    "\n",
    "csv_string = urllib2.urlopen(csv_url)\n",
    "\n",
    "train_table_df = pd.read_csv(csv_url)\n",
    "\n",
    "train_table_df.head()"
   ]
  },
  {
   "cell_type": "code",
   "execution_count": 3,
   "metadata": {
    "collapsed": true
   },
   "outputs": [],
   "source": [
    "## Choosing variables to extract and assigning variables we'll use below\n",
    "\n",
    "labels_to_use = [\"Male\", \"Bill Clinton\", \"Female\"]\n",
    "\n",
    "label_dir_names = [item.replace(' ', '_') for item in labels_to_use]\n",
    "\n",
    "speaker_0_label, speaker_1_label, speaker_2_label = labels_to_use"
   ]
  },
  {
   "cell_type": "code",
   "execution_count": null,
   "metadata": {
    "collapsed": true
   },
   "outputs": [],
   "source": []
  },
  {
   "cell_type": "code",
   "execution_count": null,
   "metadata": {
    "collapsed": true
   },
   "outputs": [],
   "source": [
    "%%capture\n",
    "## Excerpting WAV clips corresponding to labels\n",
    "#### (This may take a while.)\n",
    "\n",
    "os.chdir(classifier_dir_pathname)\n",
    "\n",
    "media_dir_pathname = classifier_dir_pathname + 'Bill_Clinton_Speeches_UVA_Miller_Center'\n",
    "\n",
    "train_table_groups = train_table_df.groupby(['Media file basename', 'Label'])\n",
    "\n",
    "for name, group in train_table_groups:\n",
    "    list_of_lists = group.values.tolist()\n",
    "    basename, start, duration, label, labeled_by = list_of_lists[0]\n",
    "    filename = str(basename) + '.mp3'\n",
    "    media_path = os.path.join(media_dir_pathname, filename)\n",
    "    label_dir_pathname = str(os.path.join(classifier_dir_pathname, label.replace(' ','_')))\n",
    "    if label in labels_to_use:\n",
    "        subclip_pairs = []\n",
    "        for row in list_of_lists:\n",
    "            basename, start, duration, label, labeled_by = row\n",
    "            subclip_pairs.append((float(start), float(duration)))\n",
    "        try: subprocess.call(['mkdir', '-p', label_dir_pathname])\n",
    "        except: pass\n",
    "        try:\n",
    "            attk.subclip_list(media_path, subclip_pairs, label_dir_pathname)\n",
    "        except Exception as e: \n",
    "            print(e)"
   ]
  },
  {
   "cell_type": "code",
   "execution_count": null,
   "metadata": {
    "collapsed": true
   },
   "outputs": [],
   "source": [
    "#%%capture\n",
    "## Extract vowel segments from labeled audio clips\n",
    "#### (This may take a while.)\n",
    "\n",
    "os.chdir(classifier_dir_pathname)\n",
    "\n",
    "for dir_name in label_dir_names:\n",
    "    try:\n",
    "        attk.batch_extract_vowels(dir_name)\n",
    "    except Exception as e:\n",
    "        print(\"ERROR: \" + dir_name)\n",
    "        print(e)"
   ]
  },
  {
   "cell_type": "code",
   "execution_count": 8,
   "metadata": {},
   "outputs": [
    {
     "name": "stdout",
     "output_type": "stream",
     "text": [
      "> Starting Male\n",
      "> Starting Bill_Clinton\n",
      "> Starting Female\n"
     ]
    }
   ],
   "source": [
    "#%%capture\n",
    "## Extract features (MFCCs, deltas, and delta-deltas) from Speaker 1 & UBM vowel clips, then write features to CSVs\n",
    "\n",
    "os.chdir(classifier_dir_pathname)\n",
    "\n",
    "for dir_name in label_dir_names:\n",
    "    print(\"> Starting \" + dir_name)\n",
    "    try:\n",
    "        os.chdir(os.path.join(classifier_dir_pathname, dir_name, '_vowel_clips'))\n",
    "        try: os.mkdir('../_vowel_mfccs_and_deltas')\n",
    "        except: pass\n",
    "        filenames = [item for item in os.listdir('./') if item[-4:].lower()=='.wav']\n",
    "        for filename in filenames:\n",
    "            csv_out_path = '../_vowel_mfccs_and_deltas/' + filename[:-4] + '.mfcc.csv'\n",
    "            if not os.path.isfile(csv_out_path):\n",
    "                try:\n",
    "                    mfccs = attk.get_mfccs_and_deltas(filename, n_mfcc=30, n_fft=4096, freq_min=100, freq_max=16000)\n",
    "                    if len(mfccs) > 0:\n",
    "                        with open(csv_out_path, 'w') as fo:\n",
    "                            csv_writer = csv.writer(fo)\n",
    "                            csv_writer.writerows(mfccs)  \n",
    "                except Exception as e:\n",
    "                    print('FILE ERROR: ' + filename)\n",
    "                    print(e)\n",
    "    except Exception as e:\n",
    "        print('SKIPPING DIRECTORY: ' + dir_name)     ## Skipping class directories for which we didn't extract vowels\n",
    "        print(e)"
   ]
  },
  {
   "cell_type": "code",
   "execution_count": null,
   "metadata": {
    "collapsed": true
   },
   "outputs": [],
   "source": [
    "## Continue to the next notebook to train and run the speaker ID classifier."
   ]
  },
  {
   "cell_type": "code",
   "execution_count": null,
   "metadata": {
    "collapsed": true
   },
   "outputs": [],
   "source": []
  }
 ],
 "metadata": {
  "kernelspec": {
   "display_name": "Python 2",
   "language": "python",
   "name": "python2"
  },
  "language_info": {
   "codemirror_mode": {
    "name": "ipython",
    "version": 2
   },
   "file_extension": ".py",
   "mimetype": "text/x-python",
   "name": "python",
   "nbconvert_exporter": "python",
   "pygments_lexer": "ipython2",
   "version": "2.7.6"
  }
 },
 "nbformat": 4,
 "nbformat_minor": 2
}
