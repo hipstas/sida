{
 "cells": [
  {
   "cell_type": "code",
   "execution_count": 2,
   "metadata": {
    "collapsed": true
   },
   "outputs": [],
   "source": [
    "import os\n",
    "import numpy as np\n",
    "import librosa\n",
    "from IPython.display import display, Audio\n",
    "import timeit\n",
    "import random\n",
    "from sklearn.externals import joblib\n",
    "from numpy import ma\n",
    "from aubio import source, pitch\n",
    "\n",
    "os.chdir('/home/sharedfolder')"
   ]
  },
  {
   "cell_type": "code",
   "execution_count": 3,
   "metadata": {
    "collapsed": true
   },
   "outputs": [],
   "source": [
    "def get_mfccs(wav_pathname):\n",
    "    sample_array, sample_rate = librosa.load(wav_pathname)\n",
    "    mfcc_frames = librosa.feature.mfcc(sample_array, sample_rate, hop_length=512, n_mfcc=13).T\n",
    "    mfcc_frames_sans_0th = [frame_values[1:] for frame_values in mfcc_frames]\n",
    "    return mfcc_frames_sans_0th"
   ]
  },
  {
   "cell_type": "code",
   "execution_count": 4,
   "metadata": {
    "collapsed": true
   },
   "outputs": [],
   "source": [
    "def get_mfccs_and_deltas(wav_pathname):\n",
    "    sample_array, sample_rate = librosa.load(wav_pathname)\n",
    "    mfcc = librosa.feature.mfcc(sample_array, sample_rate, hop_length=512, n_mfcc=13)\n",
    "    delta = librosa.feature.delta(mfcc)\n",
    "    delta2 = librosa.feature.delta(mfcc, order=2)\n",
    "    mfcc=mfcc.T     ### Transposing tables\n",
    "    delta=delta.T   ## (We can instead set the axis above to do this without the extra step)\n",
    "    delta2=delta2.T\n",
    "    mfcc_sans_0th = [frame_values[1:] for frame_values in mfcc]\n",
    "    all_features=[]\n",
    "    for i in range(len(mfcc)):\n",
    "        all_features.append(list(mfcc_sans_0th[i])+list(delta[i])+list(delta2[i]))\n",
    "    return all_features"
   ]
  },
  {
   "cell_type": "code",
   "execution_count": null,
   "metadata": {},
   "outputs": [],
   "source": [
    "tic=timeit.default_timer()\n",
    "\n",
    "pesca_mfccs = []\n",
    "\n",
    "for filename in os.listdir('3_training_classes/Mike_Pesca/_vowel_clips'):\n",
    "    if '.wav' in filename:\n",
    "        pesca_mfccs += get_mfccs_and_deltas('3_training_classes/Mike_Pesca/_vowel_clips/'+filename)\n",
    "\n",
    "print(timeit.default_timer() - tic)"
   ]
  },
  {
   "cell_type": "code",
   "execution_count": null,
   "metadata": {},
   "outputs": [],
   "source": [
    "tic=timeit.default_timer()\n",
    "\n",
    "bg_male_mfccs = []\n",
    "\n",
    "for filename in os.listdir('3_training_classes/Background_male/_vowel_clips'):\n",
    "    if '.wav' in filename:\n",
    "        bg_male_mfccs += get_mfccs_and_deltas('3_training_classes/Background_male/_vowel_clips/'+filename)\n",
    "\n",
    "print(timeit.default_timer() - tic)"
   ]
  },
  {
   "cell_type": "code",
   "execution_count": null,
   "metadata": {},
   "outputs": [],
   "source": [
    "tic=timeit.default_timer()\n",
    "\n",
    "bg_female_mfccs = []\n",
    "\n",
    "for filename in os.listdir('3_training_classes/Background_female/_vowel_clips'):\n",
    "    if '.wav' in filename:\n",
    "        bg_female_mfccs += get_mfccs_and_deltas('3_training_classes/Background_female/_vowel_clips/'+filename)\n",
    "\n",
    "print(timeit.default_timer() - tic)"
   ]
  },
  {
   "cell_type": "code",
   "execution_count": null,
   "metadata": {},
   "outputs": [],
   "source": [
    "X = pesca_mfccs + bg_male_mfccs + bg_female_mfccs\n",
    "y = [0]*len(pesca_mfccs) + [1]*len(bg_male_mfccs) + [1]*len(bg_female_mfccs)\n",
    "\n",
    "# These should be the same.\n",
    "print(len(X))\n",
    "print(len(y))"
   ]
  },
  {
   "cell_type": "code",
   "execution_count": null,
   "metadata": {},
   "outputs": [],
   "source": [
    "# More details here:\n",
    "# http://scikit-learn.org/stable/modules/generated/sklearn.neighbors.KNeighborsClassifier.html\n",
    "\n",
    "tic=timeit.default_timer()\n",
    "\n",
    "#from sklearn.neighbors import KNeighborsClassifier\n",
    "\n",
    "#neigh = KNeighborsClassifier(n_neighbors=3)\n",
    "#neigh.fit(X, y)\n",
    "\n",
    "print(timeit.default_timer() - tic)"
   ]
  },
  {
   "cell_type": "code",
   "execution_count": null,
   "metadata": {
    "collapsed": true
   },
   "outputs": [],
   "source": [
    "## Saving trained model\n",
    "\n",
    "#joblib.dump(neigh,'pesca_vowels_knn.pkl')\n",
    "#neigh=joblib.load('pesca_vowels_knn.pkl')"
   ]
  },
  {
   "cell_type": "code",
   "execution_count": null,
   "metadata": {
    "collapsed": true
   },
   "outputs": [],
   "source": [
    "## Splitting up recent unseen files\n",
    "\n",
    "#!for f in *.mp3; do ffmpeg -i $f -f segment -segment_time 3 $f.%04d_clip.wav ; done"
   ]
  },
  {
   "cell_type": "code",
   "execution_count": null,
   "metadata": {},
   "outputs": [],
   "source": [
    "#tic=timeit.default_timer()\n",
    "\n",
    "#filename = random.choice(os.listdir('3_training_classes/unseen/_vowel_clips'))\n",
    "#test_pathname = '3_training_classes/unseen/_vowel_clips/'+filename\n",
    "#test_mfccs=get_mfccs_and_deltas(test_pathname)\n",
    "\n",
    "#print(test_pathname)\n",
    "\n",
    "#results = neigh.predict(test_mfccs)  ## Predicting new observation\n",
    "\n",
    "#print(results)\n",
    "#print(np.mean(results))\n",
    "\n",
    "\n",
    "#get_vowel_segments(test_pathname)\n",
    "\n",
    "#display(Audio(test_pathname))\n",
    "\n",
    "#print(\"Time elapsed: \"+str(timeit.default_timer() - tic))"
   ]
  },
  {
   "cell_type": "code",
   "execution_count": null,
   "metadata": {},
   "outputs": [],
   "source": []
  },
  {
   "cell_type": "code",
   "execution_count": 1,
   "metadata": {
    "collapsed": true
   },
   "outputs": [],
   "source": [
    "\n",
    "def get_vowel_segments(media_path):\n",
    "    downsample = 1\n",
    "    samplerate = 44100 // downsample\n",
    "\n",
    "    win_s = 2048 // downsample # fft size\n",
    "    hop_s = 512  // downsample # hop size\n",
    "\n",
    "    s = source(media_path, samplerate, hop_s)\n",
    "    samplerate = s.samplerate\n",
    "\n",
    "    tolerance = 0.6\n",
    "\n",
    "    pitch_o = pitch(\"yin\", win_s, hop_s, samplerate)\n",
    "    pitch_o.set_unit(\"Hz\")\n",
    "    pitch_o.set_tolerance(tolerance)\n",
    "\n",
    "    pitches = []\n",
    "    confidences = []\n",
    "\n",
    "    # total number of frames read\n",
    "    total_frames = 0\n",
    "    samples=[]\n",
    "    pitches=[]\n",
    "    while True:\n",
    "        samples, read = s()\n",
    "        pitch_ = pitch_o(samples)[0]\n",
    "        #pitch = int(round(pitch))\n",
    "        confidence = pitch_o.get_confidence()\n",
    "        #print(\"%f %f %f\" % (total_frames / float(samplerate), pitch, confidence))\n",
    "        pitches += [pitch_]\n",
    "        confidences += [confidence]\n",
    "        total_frames += read\n",
    "        if read < hop_s: break\n",
    "\n",
    "    pitches = np.array(pitches)\n",
    "    confidences = np.array(confidences)\n",
    "\n",
    "    cleaned_pitches = ma.masked_where(confidences < tolerance, pitches)\n",
    "    cleaned_pitches = ma.masked_where(cleaned_pitches > 1000, cleaned_pitches)\n",
    "    return list(np.logical_not(cleaned_pitches.mask))\n",
    "\n"
   ]
  },
  {
   "cell_type": "code",
   "execution_count": null,
   "metadata": {
    "collapsed": true
   },
   "outputs": [],
   "source": []
  },
  {
   "cell_type": "code",
   "execution_count": null,
   "metadata": {
    "collapsed": true
   },
   "outputs": [],
   "source": []
  },
  {
   "cell_type": "code",
   "execution_count": null,
   "metadata": {
    "collapsed": true
   },
   "outputs": [],
   "source": []
  },
  {
   "cell_type": "code",
   "execution_count": null,
   "metadata": {},
   "outputs": [],
   "source": [
    "### SVM\n",
    "tic=timeit.default_timer()\n",
    "\n",
    "from sklearn import svm\n",
    "X = pesca_mfccs + bg_male_mfccs + bg_female_mfccs\n",
    "y = [0]*len(pesca_mfccs) + [1]*len(bg_male_mfccs) + [1]*len(bg_female_mfccs)\n",
    "\n",
    "clf = svm.SVC()\n",
    "clf.fit(X, y) \n",
    "\n",
    "print(timeit.default_timer() - tic)"
   ]
  },
  {
   "cell_type": "code",
   "execution_count": null,
   "metadata": {
    "collapsed": true
   },
   "outputs": [],
   "source": [
    "## Saving trained model\n",
    "\n",
    "joblib.dump(clf,'pesca_svm_vowels.pkl')\n",
    "clf=joblib.load('pesca_svm_vowels.pkl')"
   ]
  },
  {
   "cell_type": "code",
   "execution_count": null,
   "metadata": {},
   "outputs": [],
   "source": [
    "tic=timeit.default_timer()\n",
    "\n",
    "import random\n",
    "filename = random.choice(os.listdir('3_training_classes/unseen'))\n",
    "test_pathname = '3_training_classes/unseen/'+filename\n",
    "test_mfccs=get_mfccs_and_deltas(test_pathname)\n",
    "\n",
    "print(test_pathname)\n",
    "results = clf.predict(test_mfccs)\n",
    "print(results)\n",
    "print(np.mean(results))\n",
    "\n",
    "display(Audio(test_pathname))\n",
    "\n",
    "print(timeit.default_timer() - tic)"
   ]
  },
  {
   "cell_type": "code",
   "execution_count": null,
   "metadata": {
    "collapsed": true
   },
   "outputs": [],
   "source": []
  },
  {
   "cell_type": "code",
   "execution_count": null,
   "metadata": {},
   "outputs": [],
   "source": [
    "## GMM\n",
    "\n",
    "from sklearn import mixture\n",
    "\n",
    "tic=timeit.default_timer()\n",
    "\n",
    "X = pesca_mfccs + bg_male_mfccs + bg_female_mfccs\n",
    "y = [0]*len(pesca_mfccs) + [1]*len(bg_male_mfccs) + [2]*len(bg_female_mfccs)\n",
    "\n",
    "gmm = mixture.GaussianMixture()\n",
    "gmm.fit(X, y) \n",
    "\n",
    "## Saving trained model\n",
    "joblib.dump(gmm,'pesca_gmm.pkl')\n",
    "gmm=joblib.load('pesca_gmm.pkl')\n",
    "\n",
    "print(timeit.default_timer() - tic)"
   ]
  },
  {
   "cell_type": "code",
   "execution_count": null,
   "metadata": {},
   "outputs": [],
   "source": [
    "tic=timeit.default_timer()\n",
    "\n",
    "import random\n",
    "filename = random.choice(os.listdir('3_training_classes/unseen'))\n",
    "test_pathname = '3_training_classes/unseen/'+filename\n",
    "test_mfccs=get_mfccs_and_deltas(test_pathname)\n",
    "\n",
    "print(test_pathname)\n",
    "results = gmm.predict(test_mfccs)\n",
    "print(results)\n",
    "print(np.mean(results))\n",
    "\n",
    "display(Audio(test_pathname))\n",
    "\n",
    "print(timeit.default_timer() - tic)"
   ]
  },
  {
   "cell_type": "code",
   "execution_count": null,
   "metadata": {},
   "outputs": [],
   "source": [
    "os.chdir('smacpy')\n",
    "import smacpy\n",
    "os.chdir('../')"
   ]
  },
  {
   "cell_type": "code",
   "execution_count": null,
   "metadata": {},
   "outputs": [],
   "source": [
    "!pwd\n"
   ]
  },
  {
   "cell_type": "code",
   "execution_count": null,
   "metadata": {
    "collapsed": true
   },
   "outputs": [],
   "source": []
  },
  {
   "cell_type": "code",
   "execution_count": null,
   "metadata": {
    "collapsed": true
   },
   "outputs": [],
   "source": []
  },
  {
   "cell_type": "code",
   "execution_count": null,
   "metadata": {},
   "outputs": [],
   "source": [
    "from scikits.audiolab import Sndfile"
   ]
  },
  {
   "cell_type": "code",
   "execution_count": null,
   "metadata": {},
   "outputs": [],
   "source": [
    "!apt install libsndfile"
   ]
  },
  {
   "cell_type": "code",
   "execution_count": null,
   "metadata": {
    "collapsed": true
   },
   "outputs": [],
   "source": [
    "#1 pesca\n",
    "#2 male\n",
    "#3 female"
   ]
  },
  {
   "cell_type": "code",
   "execution_count": null,
   "metadata": {
    "collapsed": true
   },
   "outputs": [],
   "source": [
    "!wget install http://www.mega-nerd.com/libsndfile/files/libsndfile-1.0.28.tar.gz"
   ]
  },
  {
   "cell_type": "code",
   "execution_count": null,
   "metadata": {},
   "outputs": [],
   "source": []
  },
  {
   "cell_type": "code",
   "execution_count": null,
   "metadata": {},
   "outputs": [],
   "source": [
    "!./configure\n",
    "!make\n",
    "!make install"
   ]
  },
  {
   "cell_type": "code",
   "execution_count": null,
   "metadata": {
    "collapsed": true
   },
   "outputs": [],
   "source": [
    "print(np.mean(neigh.predict(chime_mfccs_test)))"
   ]
  },
  {
   "cell_type": "code",
   "execution_count": null,
   "metadata": {
    "collapsed": true
   },
   "outputs": [],
   "source": []
  }
 ],
 "metadata": {
  "kernelspec": {
   "display_name": "Python 2",
   "language": "python",
   "name": "python2"
  },
  "language_info": {
   "codemirror_mode": {
    "name": "ipython",
    "version": 2
   },
   "file_extension": ".py",
   "mimetype": "text/x-python",
   "name": "python",
   "nbconvert_exporter": "python",
   "pygments_lexer": "ipython2",
   "version": "2.7.6"
  }
 },
 "nbformat": 4,
 "nbformat_minor": 2
}
