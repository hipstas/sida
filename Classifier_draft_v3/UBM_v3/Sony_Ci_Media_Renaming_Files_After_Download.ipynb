{
 "cells": [
  {
   "cell_type": "code",
   "execution_count": 10,
   "metadata": {},
   "outputs": [
    {
     "name": "stdout",
     "output_type": "stream",
     "text": [
      "['d2807c7a6e1145c8808ca8f7b41f6355', '7e9aff76c2fb4cb69dc2622cb70da13b', '7b2835c5c4cb4eba8f41ff86109c7281', 'ddbf8b83340a4c218af7d64fb1c09791', '15bbe1c190b0412eaf0eab60e79c99f7', '66e3d5507cee4dd8a4eaf4ba10184523', '6000055d16464f8d81d03e6bc3db1472', 'e24fd219242b46dbb462b4028c4a95b7', 'c3e96e2a50d342d18ffb0481cc90e089', '0bacbbd29f67495aa8b2e28e866099d5']\n",
      "107\n"
     ]
    }
   ],
   "source": [
    "import json\n",
    "import os\n",
    "\n",
    "base_dir=\"/Volumes/U/AAPB_Subset_4000_pt2/\"\n",
    "os.chdir(base_dir)\n",
    "\n",
    "file_stems=[filename.split(\".\")[0] for filename in os.listdir(base_dir) if \".json\" in filename]\n",
    "\n",
    "print file_stems[:10]\n",
    "print len(file_stems)"
   ]
  },
  {
   "cell_type": "code",
   "execution_count": 12,
   "metadata": {},
   "outputs": [
    {
     "name": "stdout",
     "output_type": "stream",
     "text": [
      "100\n"
     ]
    }
   ],
   "source": [
    "## Returns proper filenames for media from JSON metadata\n",
    "\n",
    "stem2filename={}\n",
    "\n",
    "counter=0\n",
    "\n",
    "for stem in file_stems:\n",
    "    metadata = json.loads(open(stem+\".json\").read())\n",
    "    stem2filename[stem]=str(metadata['name'])\n",
    "    counter+=1\n",
    "    if counter%100==0:\n",
    "        print(counter)\n",
    "    \n",
    "#print(stem2filename[\"516f4f11197f405eb33a3fda061d4a2a\"])"
   ]
  },
  {
   "cell_type": "code",
   "execution_count": null,
   "metadata": {},
   "outputs": [],
   "source": []
  },
  {
   "cell_type": "code",
   "execution_count": 13,
   "metadata": {
    "collapsed": true
   },
   "outputs": [],
   "source": [
    "base_dir=\"/Volumes/U/AAPB_Subset_4000_pt2/\"\n",
    "os.chdir(base_dir)\n",
    "\n",
    "\n",
    "for stem in stem2filename:\n",
    "    try:\n",
    "        os.rename(stem+'.mpx', stem2filename[stem])\n",
    "    except:\n",
    "        print \"ERROR: \"+stem"
   ]
  },
  {
   "cell_type": "code",
   "execution_count": 14,
   "metadata": {
    "collapsed": true
   },
   "outputs": [],
   "source": [
    "base_dir=\"/Volumes/U/AAPB_Subset_4000_pt2/\"\n",
    "os.chdir(base_dir)\n",
    "\n",
    "\n",
    "for stem in stem2filename:\n",
    "    try:\n",
    "        os.rename(stem+'.json', stem2filename[stem][:-4]+'.json')\n",
    "    except:\n",
    "        print \"ERROR: \"+stem"
   ]
  },
  {
   "cell_type": "code",
   "execution_count": null,
   "metadata": {
    "collapsed": true
   },
   "outputs": [],
   "source": []
  },
  {
   "cell_type": "code",
   "execution_count": null,
   "metadata": {
    "collapsed": true
   },
   "outputs": [],
   "source": []
  },
  {
   "cell_type": "code",
   "execution_count": null,
   "metadata": {
    "collapsed": true
   },
   "outputs": [],
   "source": []
  },
  {
   "cell_type": "code",
   "execution_count": null,
   "metadata": {
    "collapsed": true
   },
   "outputs": [],
   "source": []
  },
  {
   "cell_type": "code",
   "execution_count": null,
   "metadata": {
    "collapsed": true
   },
   "outputs": [],
   "source": []
  },
  {
   "cell_type": "code",
   "execution_count": 1,
   "metadata": {},
   "outputs": [
    {
     "data": {
      "text/plain": [
       "'/Volumes/McLaughlin-6TB-1/Dropbox/aapb-data/AAPB_corpus_metadata/AAPB_SonyCi_GUIDs_Report.tsv'"
      ]
     },
     "execution_count": 1,
     "metadata": {},
     "output_type": "execute_result"
    }
   ],
   "source": []
  }
 ],
 "metadata": {
  "kernelspec": {
   "display_name": "Python 2",
   "language": "python",
   "name": "python2"
  },
  "language_info": {
   "codemirror_mode": {
    "name": "ipython",
    "version": 2
   },
   "file_extension": ".py",
   "mimetype": "text/x-python",
   "name": "python",
   "nbconvert_exporter": "python",
   "pygments_lexer": "ipython2",
   "version": "2.7.12"
  }
 },
 "nbformat": 4,
 "nbformat_minor": 1
}
