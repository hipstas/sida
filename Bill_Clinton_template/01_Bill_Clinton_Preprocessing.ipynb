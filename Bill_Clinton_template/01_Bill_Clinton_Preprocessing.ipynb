{
 "cells": [
  {
   "cell_type": "markdown",
   "metadata": {},
   "source": [
    "# SIDA: Speaker Identification for Archives: Bill Clinton, notebook 1 of 2"
   ]
  },
  {
   "cell_type": "markdown",
   "metadata": {},
   "source": [
    "## Before you begin, download the training corpus of audio files and the labeled data you'll need:\n",
    "\n",
    "### Bill Clinton Audio: \n",
    "- http://xtra.arloproject.com/datasets/audio/Bill_Clinton_Speeches_UVA_Miller_Center.zip\n",
    "- http://xtra.arloproject.com/datasets/audio/AAPB_Hand_Labeled/Bill_Clinton_wav.zip\n",
    "\n",
    "### CSV that will allow you to create exercepts of Bill Clinton speaking from the above corpora: \n",
    "- https://github.com/hipstas/aapb-speaker-labels/blob/master/speaker_labels_randomized/Bill_Clinton/Bill_Clinton_5K_labels.csv\n",
    "\n",
    "### Male and Female audio for a universal background model: \n",
    "- http://xtra.arloproject.com/datasets/audio/Mozilla_CV_UBM_Subset/females_5k.zip\n",
    "- http://xtra.arloproject.com/datasets/audio/Mozilla_CV_UBM_Subset/males_5k.zip\n",
    "- http://xtra.arloproject.com/datasets/aapb-ubm/Female_AAPB_171110.zip\n",
    "- http://xtra.arloproject.com/datasets/aapb-ubm/Male_AAPB_171110.zip\n"
   ]
  },
  {
   "cell_type": "code",
   "execution_count": null,
   "metadata": {},
   "outputs": [],
   "source": [
    "# import modules and create the training directory\n",
    "import attk\n",
    "import os\n",
    "import csv\n",
    "import numpy as np\n",
    "import librosa\n",
    "import timeit\n",
    "import random\n",
    "import subprocess\n",
    "import urllib2\n",
    "from sklearn.externals import joblib\n",
    "from numpy import ma\n",
    "from aubio import source, pitch\n",
    "from moviepy.audio.io import AudioFileClip\n",
    "from IPython.display import display, Audio\n",
    "import pandas as pd\n",
    "\n",
    "!mkdir -p /sharedfolder/sida_classifier/\n",
    "\n",
    "os.chdir('/sharedfolder/sida_classifier/')"
   ]
  },
  {
   "cell_type": "markdown",
   "metadata": {},
   "source": [
    "Before this step, you must move the *.csv file into the /sharedfolder/sida_classifier/ directory"
   ]
  },
  {
   "cell_type": "code",
   "execution_count": null,
   "metadata": {},
   "outputs": [],
   "source": [
    "## Load 1-second labels\n",
    "\n",
    "csv_path = '/sharedfolder/sida_classifier/Bill_Clinton_5K_labels.csv'\n",
    "\n",
    "train_table_df = pd.read_csv(csv_path, names = ['Media file basename', 'Start', 'Duration', 'Label'])\n",
    "\n",
    "train_table_df.head()"
   ]
  },
  {
   "cell_type": "code",
   "execution_count": null,
   "metadata": {},
   "outputs": [],
   "source": [
    "## Choose variables to extract and assigning variables we'll use below\n",
    "\n",
    "training_audio_dir_name = \"Bill_Clinton\"\n",
    "\n",
    "labels_to_use = ['Bill Clinton']\n",
    "\n",
    "media_dir_pathname = '/sharedfolder/sida_classifier/' + training_audio_dir_name\n",
    "\n",
    "class_dir_pathname = '/sharedfolder/sida_classifier/_classes_' + training_audio_dir_name"
   ]
  },
  {
   "cell_type": "markdown",
   "metadata": {},
   "source": [
    "Before running the next cell, you must have both sets of the Bill Clinton audio files together in a */sharedfolder/sida_classifier/Bill_Clinton* directory."
   ]
  },
  {
   "cell_type": "code",
   "execution_count": null,
   "metadata": {},
   "outputs": [],
   "source": [
    "%%capture\n",
    "## Excerpt WAV clips corresponding to labels\n",
    "## This cell will take some time.\n",
    "\n",
    "os.chdir('/sharedfolder/sida_classifier/')\n",
    "\n",
    "train_table_groups = train_table_df.groupby(['Media file basename', 'Label'])\n",
    "\n",
    "for name, group in train_table_groups:\n",
    "    list_of_lists = group.values.tolist()\n",
    "    basename, start, duration, label = list_of_lists[0]\n",
    "    filename = str(basename) + '.wav'\n",
    "    media_path = os.path.join(media_dir_pathname, filename)\n",
    "    if not os.path.isfile(media_path):\n",
    "        filename = str(basename) + '.mp3'\n",
    "        media_path = os.path.join(media_dir_pathname, filename)\n",
    "    label_dir_pathname = str(os.path.join(class_dir_pathname, label.replace(' ','_')))\n",
    "    if label in labels_to_use:\n",
    "        subclip_pairs = []\n",
    "        for row in list_of_lists:\n",
    "            basename, start, duration, label = row\n",
    "            subclip_pairs.append((float(start), float(duration)))\n",
    "        try: subprocess.call(['mkdir', '-p', label_dir_pathname])\n",
    "        except: pass\n",
    "        try:\n",
    "            attk.subclip_list(media_path, subclip_pairs, label_dir_pathname)\n",
    "        except Exception as e: \n",
    "            print(e)"
   ]
  },
  {
   "cell_type": "markdown",
   "metadata": {},
   "source": [
    "Before beginning this step, be sure all the male and female voices that you downloaded are unzipped into directories  in the _classes_Bill_Clinton directory like so: */sharedfolder/sida_classifier/_classes_Bill_Clinton/Male_AAPB_171110* and */sharedfolder/sida_classifier/_classes_Bill_Clinton/Female_AAPB_171110*"
   ]
  },
  {
   "cell_type": "code",
   "execution_count": null,
   "metadata": {},
   "outputs": [],
   "source": [
    "%%capture\n",
    "## Extract vowel segments from labeled audio clips\n",
    "#### (This may take a while.)\n",
    "\n",
    "os.chdir(class_dir_pathname)\n",
    "\n",
    "for dir_name in [item for item in os.listdir('./') if os.path.isdir(item)]:\n",
    "    try:\n",
    "        attk.batch_extract_vowels(dir_name)\n",
    "    except Exception as e:\n",
    "        print(\"ERROR: \" + dir_name)\n",
    "        print(e)\n",
    "    os.chdir(class_dir_pathname)"
   ]
  },
  {
   "cell_type": "code",
   "execution_count": null,
   "metadata": {},
   "outputs": [],
   "source": [
    "%%capture \n",
    "# The 'magic' command above suppresses this cell's output (including errors) \n",
    "# in order to avoid surpassing the browser's memory limit. Comment it out \n",
    "# to see output and errors.\n",
    "\n",
    "## Extract features (MFCCs, deltas, and delta-deltas) from all clips, then write features to CSVs\n",
    "\n",
    "os.chdir(class_dir_pathname)\n",
    "\n",
    "for dir_name in [item for item in os.listdir('./') if os.path.isdir(item)]:\n",
    "    print(\"> Starting \" + dir_name)\n",
    "    try:\n",
    "        os.chdir(os.path.join(class_dir_pathname, dir_name, '_vowel_clips'))\n",
    "        try: os.mkdir('../_vowel_mfccs_and_deltas')\n",
    "        except: pass\n",
    "        filenames = [item for item in os.listdir('./') if item[-4:].lower()=='.wav']\n",
    "        for filename in filenames:\n",
    "            csv_out_path = '../_vowel_mfccs_and_deltas/' + filename[:-4] + '.mfcc.csv'\n",
    "            if not os.path.isfile(csv_out_path):\n",
    "                try:\n",
    "                    mfccs = attk.get_mfccs_and_deltas(filename, n_mfcc=30, n_fft=4096, freq_min=100, freq_max=16000)\n",
    "                    if len(mfccs) > 0:\n",
    "                        with open(csv_out_path, 'w') as fo:\n",
    "                            csv_writer = csv.writer(fo)\n",
    "                            csv_writer.writerows(mfccs)  \n",
    "                except Exception as e:\n",
    "                    print('FILE ERROR: ' + filename)\n",
    "                    print(e)\n",
    "    except Exception as e:\n",
    "        print('SKIPPING DIRECTORY: ' + dir_name)     ## Skipping class directories for which we didn't extract vowels\n",
    "        #print(e)"
   ]
  },
  {
   "cell_type": "code",
   "execution_count": null,
   "metadata": {},
   "outputs": [],
   "source": []
  },
  {
   "cell_type": "code",
   "execution_count": null,
   "metadata": {},
   "outputs": [],
   "source": [
    "## Continue to the next notebook to train and run the speaker ID classifier."
   ]
  }
 ],
 "metadata": {
  "kernelspec": {
   "display_name": "Python 2",
   "language": "python",
   "name": "python2"
  },
  "language_info": {
   "codemirror_mode": {
    "name": "ipython",
    "version": 2
   },
   "file_extension": ".py",
   "mimetype": "text/x-python",
   "name": "python",
   "nbconvert_exporter": "python",
   "pygments_lexer": "ipython2",
   "version": "2.7.14"
  }
 },
 "nbformat": 4,
 "nbformat_minor": 2
}
