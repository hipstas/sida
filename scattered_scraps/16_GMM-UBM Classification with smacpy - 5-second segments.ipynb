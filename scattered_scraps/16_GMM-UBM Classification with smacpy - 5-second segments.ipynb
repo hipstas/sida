{
 "cells": [
  {
   "cell_type": "code",
   "execution_count": 3,
   "metadata": {},
   "outputs": [
    {
     "ename": "NameError",
     "evalue": "_SNDFILE_FILE_FORMAT",
     "output_type": "error",
     "traceback": [
      "\u001b[0;31m---------------------------------------------------------------------------\u001b[0m",
      "\u001b[0;31mNameError\u001b[0m                                 Traceback (most recent call last)",
      "\u001b[0;32m<ipython-input-3-df98488a9a3a>\u001b[0m in \u001b[0;36m<module>\u001b[0;34m()\u001b[0m\n\u001b[1;32m     10\u001b[0m \u001b[0;32mimport\u001b[0m \u001b[0mcopy\u001b[0m\u001b[0;34m\u001b[0m\u001b[0m\n\u001b[1;32m     11\u001b[0m \u001b[0;32mimport\u001b[0m \u001b[0mpandas\u001b[0m \u001b[0;32mas\u001b[0m \u001b[0mpd\u001b[0m\u001b[0;34m\u001b[0m\u001b[0m\n\u001b[0;32m---> 12\u001b[0;31m \u001b[0;32mimport\u001b[0m \u001b[0mscikits\u001b[0m\u001b[0;34m.\u001b[0m\u001b[0maudiolab\u001b[0m\u001b[0;34m\u001b[0m\u001b[0m\n\u001b[0m\u001b[1;32m     13\u001b[0m \u001b[0;34m\u001b[0m\u001b[0m\n\u001b[1;32m     14\u001b[0m \u001b[0mos\u001b[0m\u001b[0;34m.\u001b[0m\u001b[0mchdir\u001b[0m\u001b[0;34m(\u001b[0m\u001b[0;34m'/sharedfolder/smacpy'\u001b[0m\u001b[0;34m)\u001b[0m\u001b[0;34m\u001b[0m\u001b[0m\n",
      "\u001b[0;32m/usr/local/lib/python2.7/dist-packages/scikits/audiolab/__init__.py\u001b[0m in \u001b[0;36m<module>\u001b[0;34m()\u001b[0m\n\u001b[1;32m     32\u001b[0m \u001b[0;31m#from scikits.audiolab.matapi import wavread, aiffread, flacread, auread, \\\u001b[0m\u001b[0;34m\u001b[0m\u001b[0;34m\u001b[0m\u001b[0m\n\u001b[1;32m     33\u001b[0m \u001b[0;31m#        sdifread, wavwrite, aiffwrite, flacwrite, auwrite, sdifwrite\u001b[0m\u001b[0;34m\u001b[0m\u001b[0;34m\u001b[0m\u001b[0m\n\u001b[0;32m---> 34\u001b[0;31m \u001b[0;32mfrom\u001b[0m \u001b[0mpysndfile\u001b[0m\u001b[0;34m.\u001b[0m\u001b[0mmatapi\u001b[0m \u001b[0;32mimport\u001b[0m \u001b[0;34m*\u001b[0m\u001b[0;34m\u001b[0m\u001b[0m\n\u001b[0m\u001b[1;32m     35\u001b[0m \u001b[0;34m\u001b[0m\u001b[0m\n\u001b[1;32m     36\u001b[0m \u001b[0;32mfrom\u001b[0m \u001b[0msoundio\u001b[0m \u001b[0;32mimport\u001b[0m \u001b[0mplay\u001b[0m\u001b[0;34m\u001b[0m\u001b[0m\n",
      "\u001b[0;32m/usr/local/lib/python2.7/dist-packages/scikits/audiolab/pysndfile/matapi.py\u001b[0m in \u001b[0;36m<module>\u001b[0;34m()\u001b[0m\n\u001b[1;32m    143\u001b[0m \u001b[0;34m\u001b[0m\u001b[0m\n\u001b[1;32m    144\u001b[0m wavread     = _reader_factory('wavread', 'wav',\n\u001b[0;32m--> 145\u001b[0;31m                     Format('wav', 'pcm16').file_format)\n\u001b[0m\u001b[1;32m    146\u001b[0m auread      = _reader_factory('auread', 'au',\n\u001b[1;32m    147\u001b[0m                     Format('au', 'pcm16').file_format)\n",
      "\u001b[0;32m_sndfile.pyx\u001b[0m in \u001b[0;36mscikits.audiolab.pysndfile._sndfile.Format.__init__ (scikits/audiolab/pysndfile/_sndfile.c:1429)\u001b[0;34m()\u001b[0m\n",
      "\u001b[0;31mNameError\u001b[0m: _SNDFILE_FILE_FORMAT"
     ]
    }
   ],
   "source": [
    "import shutil\n",
    "import subprocess\n",
    "import os\n",
    "from itertools import groupby\n",
    "from operator import itemgetter\n",
    "import numpy as np\n",
    "import csv\n",
    "import os\n",
    "import time\n",
    "import copy\n",
    "import pandas as pd\n",
    "import scikits.audiolab\n",
    "\n",
    "os.chdir('/sharedfolder/smacpy')\n",
    "\n",
    "from smacpy import Smacpy\n"
   ]
  },
  {
   "cell_type": "code",
   "execution_count": null,
   "metadata": {},
   "outputs": [],
   "source": [
    "from scikits import audiolab"
   ]
  },
  {
   "cell_type": "code",
   "execution_count": null,
   "metadata": {},
   "outputs": [],
   "source": [
    "!pip uninstall -y scikits.audiolab"
   ]
  },
  {
   "cell_type": "code",
   "execution_count": null,
   "metadata": {
    "collapsed": true
   },
   "outputs": [],
   "source": [
    "!pip install -y scikits.audiolab"
   ]
  },
  {
   "cell_type": "code",
   "execution_count": null,
   "metadata": {
    "collapsed": true
   },
   "outputs": [],
   "source": [
    "#############################\n",
    "## Enter Speaker Name Here ##\n",
    "#############################\n",
    "\n",
    "speaker = \"Clinton, Hillary\"\n",
    "\n",
    "corpus_dir = \"/Volumes/McLaughlin-6TB-1/Dropbox/aapb-hipstas/Model_training_clips/\"\n",
    "\n",
    "#############################\n",
    "\n",
    "last_name = speaker.split(', ')[0]\n",
    "\n",
    "print(speaker)\n",
    "print(last_name)"
   ]
  },
  {
   "cell_type": "code",
   "execution_count": null,
   "metadata": {
    "collapsed": true
   },
   "outputs": [],
   "source": [
    "ubm_dir = os.path.join(corpus_dir,'UBM_Clinton_Hillary')\n",
    "#ubm_dir = os.path.join(corpus_dir,'UBM_'+last_name)\n",
    "\n",
    "speaker_dir =os.path.join(corpus_dir,speaker)\n",
    "\n",
    "num_speaker_clips=len([item for item in os.listdir(speaker_dir) if item.lower()[-4:]=='.wav'])\n",
    "\n",
    "smacpy_dict={}\n",
    "\n",
    "for filename in [item for item in os.listdir(ubm_dir) if '.wav' in item]:\n",
    "    smacpy_dict[os.path.join(ubm_dir,filename)]=\"background\"\n",
    "\n",
    "for filename in [item for item in os.listdir(speaker_dir) if '.wav' in item]:\n",
    "    smacpy_dict[os.path.join(speaker_dir,filename)]=speaker_dir.strip('/').split('/')[-1]\n",
    "\n",
    "model = Smacpy(\"\", smacpy_dict)"
   ]
  },
  {
   "cell_type": "code",
   "execution_count": null,
   "metadata": {
    "collapsed": true
   },
   "outputs": [],
   "source": [
    "\n",
    "def smooth(x,window_len=10,window='hanning'):\n",
    "        if x.ndim != 1:\n",
    "                raise ValueError, \"smooth only accepts 1 dimension arrays.\"\n",
    "        if x.size < window_len:\n",
    "                raise ValueError, \"Input vector needs to be bigger than window size.\"\n",
    "        if window_len<3:\n",
    "                return x\n",
    "        if not window in ['flat', 'hanning', 'hamming', 'bartlett', 'blackman']:\n",
    "                raise ValueError, \"Window is on of 'flat', 'hanning', 'hamming', 'bartlett', 'blackman'\"\n",
    "        s=np.r_[2*x[0]-x[window_len-1::-1],x,2*x[-1]-x[-1:-window_len:-1]]\n",
    "        if window == 'flat': #moving average\n",
    "                w=np.ones(window_len,'d')\n",
    "        else:  \n",
    "                w=eval('np.'+window+'(window_len)')\n",
    "        y=np.convolve(w/w.sum(),s,mode='same')\n",
    "        return y[window_len:-window_len+1]\n",
    "\n",
    "\n",
    "\n",
    "def seconds_list_to_ranges(seconds_list): \n",
    "    ranges = []                \n",
    "    for k, g in groupby(enumerate(seconds_list), lambda (i,x):i-x):\n",
    "        group = map(itemgetter(1), g)\n",
    "        ranges.append((group[0], group[-1]))\n",
    "    return ranges\n",
    "\n",
    "seconds_list_to_ranges([1,2,3,7,8,9,34,99,100,101,102,199])"
   ]
  },
  {
   "cell_type": "code",
   "execution_count": null,
   "metadata": {
    "collapsed": true
   },
   "outputs": [],
   "source": [
    "\n",
    "def classify_audio_file(audio_pathname):\n",
    "    segments_dir_temp = os.path.join(corpus_dir, last_name+'_segments_5_sec')\n",
    "    basename = audio_pathname.split('/')[-1][:-4]\n",
    "    try:\n",
    "        os.mkdir(segments_dir_temp)\n",
    "        subprocess.call(['ffmpeg','-i',audio_pathname,'-n','-f','segment','-segment_time','5','-c','copy',os.path.join(segments_dir_temp,basename+\"_sec_%05d.wav\")])\n",
    "    except:\n",
    "        print(\"Apparently already processed: \"+audio_pathname)\n",
    "    seg_pathnames = [os.path.join(segments_dir_temp, item) for item in os.listdir(segments_dir_temp) if item.lower()[-4:]=='.wav']\n",
    "    output=[]\n",
    "    global speaker\n",
    "    for filename in [item for item in seg_pathnames if '.wav' in item]:\n",
    "        if model.classify(filename) == speaker:\n",
    "            output.append(1)\n",
    "            output.append(1)\n",
    "            output.append(1)\n",
    "            output.append(1)\n",
    "            output.append(1)\n",
    "        else:\n",
    "            output.append(0)\n",
    "            output.append(0)\n",
    "            output.append(0)\n",
    "            output.append(0)\n",
    "            output.append(0)\n",
    "    \n",
    "    counter=0\n",
    "    speaker_secs=[]\n",
    "    for segment in output:\n",
    "        if segment>0.0:\n",
    "            speaker_secs.append(counter)\n",
    "        counter+=1\n",
    "    speaker_ranges = seconds_list_to_ranges(speaker_secs)\n",
    "    csv_pathname = audio_pathname[:-4]+'_GMM_UBM_'+last_name+'_'+str(num_speaker_clips)+\"x2s_x5s.csv\"\n",
    "    with open(csv_pathname, 'w') as csv_fo:\n",
    "        speaker_ranges_expanded=[(start,1,end-start+1) for start,end in speaker_ranges]\n",
    "        csv_writer = csv.writer(csv_fo)\n",
    "        csv_writer.writerows(speaker_ranges_expanded)\n",
    "    ## Smooth version\n",
    "    output_smooth_temp = list(smooth(np.array(output),window_len=3))\n",
    "    output_smooth=[]\n",
    "    for item in output_smooth_temp:\n",
    "        output_smooth.append(round(item))\n",
    "    counter=0\n",
    "    speaker_secs=[]\n",
    "    for segment in output_smooth:\n",
    "        if segment>0.0:\n",
    "            speaker_secs.append(counter)\n",
    "        counter+=1\n",
    "    speaker_ranges = seconds_list_to_ranges(speaker_secs)\n",
    "    csv_smooth_pathname = audio_pathname[:-4]+'_GMM_UBM_smooth3_'+last_name+'_'+str(num_speaker_clips)+\"x2s_x5s.csv\"\n",
    "    with open(csv_smooth_pathname, 'w') as csv_fo:\n",
    "        speaker_ranges_expanded=[(start,1,end-start+1) for start,end in speaker_ranges]\n",
    "        csv_writer = csv.writer(csv_fo)\n",
    "        csv_writer.writerows(speaker_ranges_expanded)\n",
    "    shutil.rmtree(segments_dir_temp)\n",
    "\n",
    "\n",
    "    \n"
   ]
  },
  {
   "cell_type": "code",
   "execution_count": null,
   "metadata": {
    "collapsed": true
   },
   "outputs": [],
   "source": [
    "\n",
    "\n",
    "\n",
    "test_set_dir=\"/Volumes/U/AAPB_Corpus_May_2017/Test_Sets/AAPB_Test_Haystack_Clinton_Hillary\"\n",
    "\n",
    "\n",
    "for pathname in to_classify:\n",
    "    classify_audio_file(pathname)"
   ]
  },
  {
   "cell_type": "code",
   "execution_count": null,
   "metadata": {
    "collapsed": true
   },
   "outputs": [],
   "source": [
    "\n",
    "\n",
    "\n",
    "test_set_dir=\"/Volumes/U/AAPB_Corpus_May_2017/Test_Sets/AAPB_Test_Haystack_Clinton_Hillary\"\n",
    "\n",
    "\n",
    "for pathname in to_classify:\n",
    "    classify_audio_file(pathname)"
   ]
  },
  {
   "cell_type": "code",
   "execution_count": null,
   "metadata": {
    "collapsed": true
   },
   "outputs": [],
   "source": []
  },
  {
   "cell_type": "code",
   "execution_count": null,
   "metadata": {
    "collapsed": true
   },
   "outputs": [],
   "source": []
  }
 ],
 "metadata": {
  "kernelspec": {
   "display_name": "Python 2",
   "language": "python",
   "name": "python2"
  },
  "language_info": {
   "codemirror_mode": {
    "name": "ipython",
    "version": 2
   },
   "file_extension": ".py",
   "mimetype": "text/x-python",
   "name": "python",
   "nbconvert_exporter": "python",
   "pygments_lexer": "ipython2",
   "version": "2.7.6"
  }
 },
 "nbformat": 4,
 "nbformat_minor": 2
}
