{
 "cells": [
  {
   "cell_type": "code",
   "execution_count": 3,
   "metadata": {},
   "outputs": [],
   "source": [
    "%%capture\n",
    "!pip install -U lxml\n",
    "!pip install -U bs4"
   ]
  },
  {
   "cell_type": "code",
   "execution_count": 4,
   "metadata": {
    "collapsed": true
   },
   "outputs": [],
   "source": [
    "from bs4 import BeautifulSoup\n",
    "import subprocess\n",
    "import urllib2\n",
    "import os\n",
    "import re\n",
    "\n",
    "def scrape_mp3_links(url):\n",
    "    if '.mp3' in url.lower():\n",
    "        links = [url]\n",
    "        title = url.split('/')[-1][:-4]\n",
    "    else:\n",
    "        try:\n",
    "            page = urllib2.urlopen(url).read().decode('utf-8')\n",
    "        except:\n",
    "            try:\n",
    "                page = urllib2.urlopen(url).read().encode('utf-8')\n",
    "            except:\n",
    "                try:\n",
    "                    page = unidecode(unicode(urllib2.urlopen(url).read()))\n",
    "                except:\n",
    "                    page = urllib2.urlopen(url).read()\n",
    "        soup = BeautifulSoup(page, 'html5lib')\n",
    "        links=[]\n",
    "        try: title=soup.title.string\n",
    "        except: title=url.split('/')[-1].split('.')[0]    \n",
    "        \n",
    "        mp3_urls = [str('http' + item + '.mp3') for item in re.findall(r'http([^]]*)\\.mp3', page)]\n",
    "        \n",
    "    return mp3_urls"
   ]
  },
  {
   "cell_type": "code",
   "execution_count": null,
   "metadata": {},
   "outputs": [],
   "source": [
    "os.chdir('/sharedfolder/mp3_tests')\n",
    "\n",
    "rss_url = \"https://www.npr.org/rss/podcast.php?id=381444908\"\n",
    "\n",
    "mp3_urls = scrape_mp3_links(rss_url)\n",
    "\n",
    "print(len(mp3_urls))\n",
    "\n",
    "for url in mp3_urls:\n",
    "    subprocess.call(['wget', '-N', url])"
   ]
  },
  {
   "cell_type": "code",
   "execution_count": 14,
   "metadata": {
    "collapsed": true
   },
   "outputs": [],
   "source": [
    "\n"
   ]
  },
  {
   "cell_type": "code",
   "execution_count": 15,
   "metadata": {
    "collapsed": true
   },
   "outputs": [],
   "source": []
  },
  {
   "cell_type": "code",
   "execution_count": 17,
   "metadata": {
    "collapsed": true
   },
   "outputs": [],
   "source": [
    "#for link in soup.findAll('a'):\n",
    "#            temp_link=unicode(link.get('href')).strip()\n",
    "#            if temp_link.lower()[-4:]=='.mp3':\n",
    "#                links.append(temp_link)\n",
    "                "
   ]
  }
 ],
 "metadata": {
  "kernelspec": {
   "display_name": "Python 2",
   "language": "python",
   "name": "python2"
  },
  "language_info": {
   "codemirror_mode": {
    "name": "ipython",
    "version": 2
   },
   "file_extension": ".py",
   "mimetype": "text/x-python",
   "name": "python",
   "nbconvert_exporter": "python",
   "pygments_lexer": "ipython2",
   "version": "2.7.6"
  }
 },
 "nbformat": 4,
 "nbformat_minor": 2
}
