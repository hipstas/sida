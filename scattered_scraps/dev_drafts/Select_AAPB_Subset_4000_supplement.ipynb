{
 "cells": [
  {
   "cell_type": "code",
   "execution_count": 4,
   "metadata": {},
   "outputs": [
    {
     "data": {
      "text/html": [
       "<div>\n",
       "<table border=\"1\" class=\"dataframe\">\n",
       "  <thead>\n",
       "    <tr style=\"text-align: right;\">\n",
       "      <th></th>\n",
       "      <th>assets_id</th>\n",
       "      <th>identifier</th>\n",
       "      <th>Sony Ci</th>\n",
       "    </tr>\n",
       "  </thead>\n",
       "  <tbody>\n",
       "    <tr>\n",
       "      <th>0</th>\n",
       "      <td>0</td>\n",
       "      <td>cpb-aacip/15-5x2599z51s</td>\n",
       "      <td>ac8ea60a5ead429eb39d6203bccfd6ab</td>\n",
       "    </tr>\n",
       "    <tr>\n",
       "      <th>1</th>\n",
       "      <td>320</td>\n",
       "      <td>cpb-aacip/35-69m37xn7</td>\n",
       "      <td>a820985c5fa4487fb1eebef74ae347e9</td>\n",
       "    </tr>\n",
       "    <tr>\n",
       "      <th>2</th>\n",
       "      <td>535</td>\n",
       "      <td>cpb-aacip/35-23612nh9</td>\n",
       "      <td>0a01d32ae7a0461fad71a11af4f23e33</td>\n",
       "    </tr>\n",
       "    <tr>\n",
       "      <th>3</th>\n",
       "      <td>548</td>\n",
       "      <td>cpb-aacip/35-150gb7ss</td>\n",
       "      <td>5ca7c33f64fd46c2908151b78615935f</td>\n",
       "    </tr>\n",
       "    <tr>\n",
       "      <th>4</th>\n",
       "      <td>690</td>\n",
       "      <td>cpb-aacip/35-569324qf</td>\n",
       "      <td>798f9f6b6e8b4e619dbba48b3a213a0a</td>\n",
       "    </tr>\n",
       "  </tbody>\n",
       "</table>\n",
       "</div>"
      ],
      "text/plain": [
       "   assets_id               identifier                           Sony Ci\n",
       "0          0  cpb-aacip/15-5x2599z51s  ac8ea60a5ead429eb39d6203bccfd6ab\n",
       "1        320    cpb-aacip/35-69m37xn7  a820985c5fa4487fb1eebef74ae347e9\n",
       "2        535    cpb-aacip/35-23612nh9  0a01d32ae7a0461fad71a11af4f23e33\n",
       "3        548    cpb-aacip/35-150gb7ss  5ca7c33f64fd46c2908151b78615935f\n",
       "4        690    cpb-aacip/35-569324qf  798f9f6b6e8b4e619dbba48b3a213a0a"
      ]
     },
     "execution_count": 4,
     "metadata": {},
     "output_type": "execute_result"
    }
   ],
   "source": [
    "import pandas as pd\n",
    "import os\n",
    "os.mkdir('/Volumes/McLaughlin-6TB-1/Dropbox/aapb-data/Metadata_AAPB/AAPB_Subset_4000_pt2')\n",
    "os.chdir('/Volumes/McLaughlin-6TB-1/Dropbox/aapb-data/Metadata_AAPB/AAPB_Subset_4000_pt2')\n",
    "\n",
    "aapb_id_table = pd.read_csv(\"/Volumes/McLaughlin-6TB-1/Dropbox/aapb-data/Metadata_AAPB/AAPB_SonyCi_GUIDs_Report.tsv\",sep='\\t')\n",
    "\n",
    "aapb_id_table.head()"
   ]
  },
  {
   "cell_type": "code",
   "execution_count": 12,
   "metadata": {},
   "outputs": [
    {
     "data": {
      "text/plain": [
       "107"
      ]
     },
     "execution_count": 12,
     "metadata": {},
     "output_type": "execute_result"
    }
   ],
   "source": [
    "aapb_subset = aapb_id_table.sample(108)\n",
    "\n",
    "len(set(list(aapb_subset['Sony Ci'])))"
   ]
  },
  {
   "cell_type": "code",
   "execution_count": 13,
   "metadata": {
    "collapsed": true
   },
   "outputs": [],
   "source": [
    "aapb_subset.to_csv('aapb_subset_4000_pt2.csv', index=False)"
   ]
  },
  {
   "cell_type": "code",
   "execution_count": 15,
   "metadata": {
    "collapsed": true
   },
   "outputs": [],
   "source": [
    "ci_ids = list(aapb_subset['Sony Ci'])"
   ]
  },
  {
   "cell_type": "code",
   "execution_count": 16,
   "metadata": {},
   "outputs": [],
   "source": [
    "with open('sony_ci_ids_pt2.txt','w') as fo:\n",
    "    for item in ci_ids:\n",
    "        fo.write(item+'\\n')"
   ]
  },
  {
   "cell_type": "code",
   "execution_count": null,
   "metadata": {},
   "outputs": [],
   "source": []
  },
  {
   "cell_type": "code",
   "execution_count": 14,
   "metadata": {},
   "outputs": [
    {
     "data": {
      "text/plain": [
       "['249daf2f92d74a468e098c6b6d1fe6cf',\n",
       " 'ce03d4747f70448c940a04e79822a9b1',\n",
       " '1854dfc0dd8a48d7ad5cd6df2612b664',\n",
       " 'c9eaf3f9d701432abeb62eb6b1ff19f3',\n",
       " '795470b06a674ccc9e112f18fab0745c',\n",
       " '62d24070541f4e40b3f9926a9f6365b0',\n",
       " 'f5a1483f4bbb41cf90bde4d7277ac88c',\n",
       " 'fe875020b8bf454286d4d50a8b9c6c11',\n",
       " '040048ebbdd347408106615909725e6c',\n",
       " '2635862256a3439fb028190d73a961f3']"
      ]
     },
     "execution_count": 14,
     "metadata": {},
     "output_type": "execute_result"
    }
   ],
   "source": []
  },
  {
   "cell_type": "code",
   "execution_count": null,
   "metadata": {
    "collapsed": true
   },
   "outputs": [],
   "source": []
  },
  {
   "cell_type": "code",
   "execution_count": null,
   "metadata": {
    "collapsed": true
   },
   "outputs": [],
   "source": []
  },
  {
   "cell_type": "code",
   "execution_count": null,
   "metadata": {
    "collapsed": true
   },
   "outputs": [],
   "source": []
  },
  {
   "cell_type": "code",
   "execution_count": null,
   "metadata": {
    "collapsed": true
   },
   "outputs": [],
   "source": []
  },
  {
   "cell_type": "code",
   "execution_count": null,
   "metadata": {
    "collapsed": true
   },
   "outputs": [],
   "source": []
  },
  {
   "cell_type": "code",
   "execution_count": null,
   "metadata": {
    "collapsed": true
   },
   "outputs": [],
   "source": []
  },
  {
   "cell_type": "code",
   "execution_count": null,
   "metadata": {
    "collapsed": true
   },
   "outputs": [],
   "source": []
  },
  {
   "cell_type": "code",
   "execution_count": null,
   "metadata": {
    "collapsed": true
   },
   "outputs": [],
   "source": []
  }
 ],
 "metadata": {
  "kernelspec": {
   "display_name": "Python 2",
   "language": "python",
   "name": "python2"
  },
  "language_info": {
   "codemirror_mode": {
    "name": "ipython",
    "version": 2
   },
   "file_extension": ".py",
   "mimetype": "text/x-python",
   "name": "python",
   "nbconvert_exporter": "python",
   "pygments_lexer": "ipython2",
   "version": "2.7.12"
  }
 },
 "nbformat": 4,
 "nbformat_minor": 2
}
