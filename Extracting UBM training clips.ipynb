{
 "cells": [
  {
   "cell_type": "code",
   "execution_count": 1,
   "metadata": {},
   "outputs": [
    {
     "name": "stdout",
     "output_type": "stream",
     "text": [
      "mkdir: cannot create directory '/home/sharedfolder/GitHub/sida/___training_audio': File exists\r\n"
     ]
    }
   ],
   "source": [
    "import attk\n",
    "import os\n",
    "import numpy as np\n",
    "import librosa\n",
    "from IPython.display import display, Audio\n",
    "import timeit\n",
    "import random\n",
    "from itertools import groupby\n",
    "from operator import itemgetter\n",
    "from sklearn.externals import joblib\n",
    "from numpy import ma\n",
    "from aubio import source, pitch\n",
    "from moviepy.audio.io import AudioFileClip\n",
    "import subprocess\n",
    "import unicodecsv\n",
    "import urllib2\n",
    "\n",
    "os.chdir('/home/sharedfolder/GitHub/sida/')\n",
    "\n",
    "!mkdir /home/sharedfolder/GitHub/sida/___training_audio\n",
    "\n",
    "os.chdir('/home/sharedfolder/GitHub/sida/___training_audio')\n"
   ]
  },
  {
   "cell_type": "code",
   "execution_count": 2,
   "metadata": {},
   "outputs": [
    {
     "data": {
      "text/plain": [
       "[[u'Media file basename', u'Start time', u'Duration', u'Label', u'Labeled by'],\n",
       " [u'cpb-aacip-55-19s1sc16.h264__2145.0_2155.0',\n",
       "  u'2',\n",
       "  u'1',\n",
       "  u'Male',\n",
       "  u'Stephen R. McLaughlin'],\n",
       " [u'cpb-aacip-29-6663z15p.h264__121.0_131.0',\n",
       "  u'3',\n",
       "  u'1',\n",
       "  u'Male',\n",
       "  u'Stephen R. McLaughlin'],\n",
       " [u'cpb-aacip-235-12z35scw.h264__212.0_222.0',\n",
       "  u'3',\n",
       "  u'1',\n",
       "  u'Male',\n",
       "  u'Stephen R. McLaughlin'],\n",
       " [u'cpb-aacip-500-7s7hv789__149.0_159.0',\n",
       "  u'2',\n",
       "  u'1',\n",
       "  u'Male',\n",
       "  u'Stephen R. McLaughlin'],\n",
       " [u'cpb-aacip-41-72p5hz84.h264__733.0_743.0',\n",
       "  u'2',\n",
       "  u'1',\n",
       "  u'Noise',\n",
       "  u'Stephen R. McLaughlin'],\n",
       " [u'cpb-aacip-15-4j09w0904c__200202A21A_.h264__27.0_37.0',\n",
       "  u'4',\n",
       "  u'1',\n",
       "  u'Male with crowd noise',\n",
       "  u'Stephen R. McLaughlin'],\n",
       " [u'cpb-aacip-15-8p5v698f3z__21475-2009_04_02_.h264__577.0_587.0',\n",
       "  u'4',\n",
       "  u'1',\n",
       "  u'Male',\n",
       "  u'Stephen R. McLaughlin'],\n",
       " [u'cpb-aacip-43-x921c1v32g__10376128___105.0_115.0',\n",
       "  u'1',\n",
       "  u'1',\n",
       "  u'Male',\n",
       "  u'Stephen R. McLaughlin'],\n",
       " [u'cpb-aacip-225-66vx0s8z.h264__1006.0_1016.0',\n",
       "  u'3',\n",
       "  u'1',\n",
       "  u'Male with crowd noise',\n",
       "  u'Stephen R. McLaughlin'],\n",
       " '...']"
      ]
     },
     "execution_count": 2,
     "metadata": {},
     "output_type": "execute_result"
    }
   ],
   "source": [
    "## Loading label data CSV as a list of lists\n",
    "\n",
    "csv_url = \"https://raw.githubusercontent.com/hipstas/aapb-labels/master/Universal_Background_Model_AAPB_4K_Corpus/aapb_ubm_4K_2017.csv\"\n",
    "\n",
    "csv_string = urllib2.urlopen(csv_url)\n",
    "\n",
    "train_table = []\n",
    "\n",
    "csv_reader = unicodecsv.reader(csv_string)\n",
    "\n",
    "for row in csv_reader:\n",
    "        train_table.append(row)\n",
    "\n",
    "train_table[:10]+['...']"
   ]
  },
  {
   "cell_type": "code",
   "execution_count": 3,
   "metadata": {
    "collapsed": true
   },
   "outputs": [],
   "source": [
    "## Removing header row if present\n",
    "\n",
    "if 'Media file basename' in train_table[0]:\n",
    "    train_table = train_table[1:]\n",
    "\n",
    "random.shuffle(train_table)"
   ]
  },
  {
   "cell_type": "code",
   "execution_count": 4,
   "metadata": {
    "collapsed": true
   },
   "outputs": [],
   "source": [
    "%%capture\n",
    "## Excerpting labeled WAV clips\n",
    "\n",
    "training_audio_pathname = \"/Volumes/U/audio_labeler/media/ubm_clips_final_July_2017/\"\n",
    "out_dir = '_classes_' + training_audio_pathname.strip('/').split('/')[-1]\n",
    "\n",
    "\n",
    "for row in train_table:\n",
    "    try:\n",
    "        basename , start, duration, class_name, labeled_by = row  ## Assigning values in row to variables\n",
    "        filename = str(basename + '.mp3')\n",
    "        start = float(start)\n",
    "        end = float(start) + float(duration)\n",
    "        out_pathname = str(os.path.join(out_dir, class_name.replace(' ','_')))\n",
    "        try: \n",
    "            subprocess.call(['mkdir', '-p', out_pathname])\n",
    "        except:\n",
    "            pass\n",
    "        attk.subclip(os.path.join(training_audio_pathname, filename), float(start), end, out_pathname) ## <- attk\n",
    "    except Exception as e: \n",
    "        print(row)\n",
    "        print(e)\n",
    "\n"
   ]
  },
  {
   "cell_type": "code",
   "execution_count": null,
   "metadata": {
    "collapsed": true
   },
   "outputs": [],
   "source": []
  },
  {
   "cell_type": "code",
   "execution_count": null,
   "metadata": {
    "collapsed": true
   },
   "outputs": [],
   "source": []
  },
  {
   "cell_type": "code",
   "execution_count": 5,
   "metadata": {},
   "outputs": [
    {
     "data": {
      "text/plain": [
       "'/Volumes/U/audio_labeler/media/ubm_clips_final_July_2017'"
      ]
     },
     "execution_count": 5,
     "metadata": {},
     "output_type": "execute_result"
    },
    {
     "name": "stdout",
     "output_type": "stream",
     "text": [
      "The history saving thread hit an unexpected error (OperationalError('database is locked',)).History will not be written to the database.\n"
     ]
    }
   ],
   "source": [
    "\"/Volumes/U/audio_labeler/media/ubm_clips_final_July_2017\""
   ]
  }
 ],
 "metadata": {
  "kernelspec": {
   "display_name": "Python 2",
   "language": "python",
   "name": "python2"
  },
  "language_info": {
   "codemirror_mode": {
    "name": "ipython",
    "version": 2
   },
   "file_extension": ".py",
   "mimetype": "text/x-python",
   "name": "python",
   "nbconvert_exporter": "python",
   "pygments_lexer": "ipython2",
   "version": "2.7.6"
  }
 },
 "nbformat": 4,
 "nbformat_minor": 2
}
