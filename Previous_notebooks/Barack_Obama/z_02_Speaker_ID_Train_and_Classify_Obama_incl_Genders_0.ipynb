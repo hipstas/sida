{
 "cells": [
  {
   "cell_type": "code",
   "execution_count": 1,
   "metadata": {
    "collapsed": true
   },
   "outputs": [],
   "source": [
    "import attk\n",
    "import os\n",
    "import csv\n",
    "import numpy as np\n",
    "import librosa\n",
    "import timeit\n",
    "import random\n",
    "import subprocess\n",
    "import unicodecsv\n",
    "import urllib2\n",
    "from sklearn.externals import joblib\n",
    "from numpy import ma\n",
    "from aubio import source, pitch\n",
    "from moviepy.audio.io import AudioFileClip\n",
    "from IPython.display import display, Audio\n",
    "\n",
    "os.chdir('/sharedfolder/sida_classifier/')\n",
    "\n",
    "speaker_list = ['Male', \"Barack Obama\", \"Female\"]\n",
    "\n",
    "speaker_0_label, speaker_1_label, speaker_2_label = speaker_list"
   ]
  },
  {
   "cell_type": "code",
   "execution_count": 2,
   "metadata": {},
   "outputs": [
    {
     "name": "stdout",
     "output_type": "stream",
     "text": [
      "17842\n",
      "11531\n",
      "4382\n"
     ]
    }
   ],
   "source": [
    "## Load saved features\n",
    "\n",
    "def load_features(dir_path):\n",
    "    features = []\n",
    "    for filename in os.listdir(dir_path):\n",
    "        with open(os.path.join(dir_path, filename)) as fi:\n",
    "            csv_reader = csv.reader(fi)\n",
    "            for row in csv_reader:\n",
    "                features.append([float(item) for item in row])\n",
    "    return features\n",
    "\n",
    "speaker_1_features = load_features('/sharedfolder/sida_classifier/_classes_Obama_training_clips_all/Barack_Obama/_vowel_mfccs_and_deltas')\n",
    "print(len(speaker_1_features))\n",
    "\n",
    "aapb_ubm_male_features = load_features('/sharedfolder/sida_classifier/AAPB_male_vowel_mfccs_and_deltas')\n",
    "print(len(aapb_ubm_male_features))\n",
    "\n",
    "aapb_ubm_female_features = load_features('/sharedfolder/sida_classifier/AAPB_female_vowel_mfccs_and_deltas')\n",
    "print(len(aapb_ubm_female_features))"
   ]
  },
  {
   "cell_type": "code",
   "execution_count": 3,
   "metadata": {},
   "outputs": [
    {
     "name": "stdout",
     "output_type": "stream",
     "text": [
      "[66.24526797595904, 47.16351117667229, 18.232871470874088, 16.889366533312195, 30.276397047380396, -3.244033673489548, -7.732952659624127, 3.4056124340447926, -1.578790188791543, 10.796785977912187, -3.475784173982231, 4.464948109583265, -11.947152493443413, -2.2069919679150196, 1.3547552962174962, -1.1988741607430005, -2.793146142827668, 3.3962972791362667, 3.5143997467029684, 1.9869421529073097, 2.2352433840041996, -0.6900260885509308, 0.4601252203730702, 2.7055261832814446, -4.64508290981342, -1.7803127876756584, -1.9924640313666004, 0.14918906558301154, -0.14290145543243166, -0.007117762637432384, 0.512618303343242, 0.8437250721685698, 0.4689839488525539, 0.21559765322202867, -0.025220439588936182, 0.0372879109118669, 0.5533389424848655, -1.0863278299424726]\n"
     ]
    }
   ],
   "source": [
    "## Printing MFCCs and deltas for a single frame\n",
    "\n",
    "print(random.choice(speaker_1_features))"
   ]
  },
  {
   "cell_type": "code",
   "execution_count": 5,
   "metadata": {},
   "outputs": [],
   "source": [
    "## Combining feature sets\n",
    "\n",
    "speaker_1_features = speaker_1_features\n",
    "\n",
    "speaker_0_features = aapb_ubm_male_features\n",
    "\n",
    "speaker_2_features = aapb_ubm_female_features\n",
    "\n",
    "#print(len(speaker_1_features))\n",
    "#print(len(ubm_features))"
   ]
  },
  {
   "cell_type": "code",
   "execution_count": null,
   "metadata": {},
   "outputs": [],
   "source": [
    "## Training and multi-layer perceptron model with 9/10 of training data and evaluating performance on remaining 1/10\n",
    "\n",
    "os.chdir('/sharedfolder/sida_classifier/')\n",
    "\n",
    "import random\n",
    "#random.shuffle(speaker_0_features)\n",
    "#random.shuffle(speaker_1_features)\n",
    "#random.shuffle(speaker_2_features)\n",
    "\n",
    "from sklearn.neural_network import MLPClassifier\n",
    "\n",
    "X = speaker_0_features[:-len(speaker_0_features)/10] + speaker_1_features[:-len(speaker_1_features)/10] + speaker_2_features[:-len(speaker_2_features)/10]\n",
    "y = [1]*len(speaker_0_features[:-len(speaker_0_features)/10]) + [0]*len(speaker_1_features[:-len(speaker_1_features)/10]) + [2]*len(speaker_2_features[:-len(speaker_2_features)/10])\n",
    "\n",
    "X_train = np.array(X)\n",
    "y_train = np.array(y)\n",
    "\n",
    "X_test = speaker_0_features[-len(speaker_0_features)/10:] + speaker_1_features[-len(speaker_1_features)/10:] + speaker_2_features[-len(speaker_2_features)/10:]\n",
    "y_test = [1]*len(speaker_0_features[-len(speaker_0_features)/10:]) + [0]*len(speaker_1_features[-len(speaker_1_features)/10:]) + [2]*len(speaker_2_features[-len(speaker_2_features)/10:])\n",
    "\n",
    "X_test = np.array(X_test)\n",
    "y_test = np.array(y_test)\n",
    "\n",
    "from sklearn.preprocessing import StandardScaler\n",
    "\n",
    "classifier = MLPClassifier().fit(X_train_scaled, y_train)\n",
    "\n",
    "print(classifier.score(X_test,y_test))"
   ]
  },
  {
   "cell_type": "code",
   "execution_count": null,
   "metadata": {},
   "outputs": [],
   "source": [
    "## Training and saving an MLP model with all training data\n",
    "\n",
    "X = speaker_1_features + ubm_features\n",
    "y = [1]*len(speaker_1_features) + [0]*len(ubm_features)\n",
    "\n",
    "classifier = MLPClassifier().fit(X, y)\n",
    "\n",
    "trained_model_filename = speaker_1_label.replace(' ', '_') + '_vowels_mlpc_2048.pkl'\n",
    "print(trained_model_filename)\n",
    "\n",
    "## Saving trained model\n",
    "joblib.dump(classifier, trained_model_filename)\n",
    "classifier = joblib.load(trained_model_filename)"
   ]
  },
  {
   "cell_type": "code",
   "execution_count": null,
   "metadata": {
    "collapsed": true
   },
   "outputs": [],
   "source": [
    "##############################################\n",
    "#### Start here to load pre-trained model ####\n",
    "##############################################\n",
    "\n",
    "trained_model_filename = speaker_1_label.replace(' ', '_') + '_vowels_mlpc_2048.pkl'\n",
    "\n",
    "os.chdir('/sharedfolder/sida_classifier/')\n",
    "classifier = joblib.load(trained_model_filename)"
   ]
  },
  {
   "cell_type": "code",
   "execution_count": null,
   "metadata": {
    "collapsed": true
   },
   "outputs": [],
   "source": [
    "%%capture\n",
    "## Download unseen audio and split into 3-second WAV clips for testing\n",
    "\n",
    "os.chdir('/sharedfolder/sida_classifier/')\n",
    "\n",
    "try: os.mkdir('test_clips/')\n",
    "except: pass\n",
    "\n",
    "os.chdir('/sharedfolder/sida_classifier/test_clips/')\n",
    "\n",
    "!wget -N http://traffic.libsyn.com/wtfpod/WTF_-_EPISODE_613_PRESIDENT_BARACK_OBAMA.mp3\n",
    "!ffmpeg -i \"WTF_-_EPISODE_613_PRESIDENT_BARACK_OBAMA.mp3\" \"WTF_-_EPISODE_613_PRESIDENT_BARACK_OBAMA.wav\"\n",
    "!ffmpeg -i \"WTF_-_EPISODE_613_PRESIDENT_BARACK_OBAMA.wav\" -f segment -segment_time 3 \"WTF_-_EPISODE_613_PRESIDENT_BARACK_OBAMA_3_sec_%04d.wav\""
   ]
  },
  {
   "cell_type": "code",
   "execution_count": null,
   "metadata": {},
   "outputs": [],
   "source": [
    "## Classifying short clips\n",
    "#### Repeat this cell several times to help choose a classifier threshold value.\n",
    "\n",
    "os.chdir('/sharedfolder/sida_classifier/test_clips/')\n",
    "\n",
    "wav_pathname = os.path.abspath(random.choice([item for item in os.listdir('./') if '3_sec' in item]))\n",
    "\n",
    "test_features = attk.get_mfccs_and_deltas(wav_pathname)\n",
    "\n",
    "print(wav_pathname)\n",
    "\n",
    "results = classifier.predict(test_features)  ## Predicting new observation\n",
    "\n",
    "print(results)\n",
    "\n",
    "vowel_results=[]\n",
    "\n",
    "vowel_bools = attk.get_vowel_segments(wav_pathname)\n",
    "\n",
    "print(len(results))\n",
    "print(len(vowel_bools))\n",
    "\n",
    "#for i in range(len(results)):\n",
    "#    if vowel_bools[i]==True:\n",
    "#        vowel_results.append(results[i])\n",
    "\n",
    "#display(Audio(wav_pathname))\n",
    "\n",
    "#print(\"All samples: \"+str(np.mean(results)))\n",
    "#print(\"Vowels only: \"+str(np.mean(vowel_results)))"
   ]
  },
  {
   "cell_type": "code",
   "execution_count": null,
   "metadata": {},
   "outputs": [],
   "source": [
    "## Classifying short clips\n",
    "#### Repeat this cell several times to help choose a classifier threshold value.\n",
    "\n",
    "os.chdir('/sharedfolder/sida_classifier/test_clips/')\n",
    "\n",
    "wav_pathname = os.path.abspath(random.choice([item for item in os.listdir('./') if '3_sec' in item]))\n",
    "\n",
    "test_features = attk.get_mfccs_and_deltas(wav_pathname)\n",
    "\n",
    "print(wav_pathname)\n",
    "\n",
    "results = classifier.predict(test_features)  ## Predicting new observation\n",
    "\n",
    "print(results)\n",
    "\n",
    "vowel_results=[]\n",
    "\n",
    "vowel_bools = attk.get_vowel_segments(wav_pathname)\n",
    "\n",
    "for i in range(len(results)):\n",
    "    try:\n",
    "        if vowel_bools[i]==True:\n",
    "            vowel_results.append(results[i])\n",
    "    except:\n",
    "        pass\n",
    "\n",
    "display(Audio(wav_pathname))\n",
    "\n",
    "print(\"All samples: \"+str(np.mean(results)))\n",
    "print(\"Vowels only: \"+str(np.mean(vowel_results)))"
   ]
  },
  {
   "cell_type": "code",
   "execution_count": null,
   "metadata": {
    "collapsed": true
   },
   "outputs": [],
   "source": [
    "## Function that classifies vowel segments only and returns \n",
    "## average output for the full clip\n",
    "\n",
    "def classify_clip(clip_pathname):\n",
    "    mfccs = attk.get_mfccs_and_deltas(clip_pathname)\n",
    "    results = classifier.predict(mfccs)  ## Predicting new observation\n",
    "    vowel_results=[]\n",
    "    vowel_bools = attk.get_vowel_segments(clip_pathname)\n",
    "\n",
    "    for i in range(len(results)):\n",
    "        if vowel_bools[i]==True:\n",
    "            vowel_results.append(results[i])\n",
    "\n",
    "    return np.mean(vowel_results) ## Vowels only"
   ]
  },
  {
   "cell_type": "code",
   "execution_count": null,
   "metadata": {
    "collapsed": true
   },
   "outputs": [],
   "source": [
    "%%capture\n",
    "## Classifying a long audio file\n",
    "\n",
    "resolution_secs = 3.0\n",
    "\n",
    "os.chdir('/sharedfolder/')\n",
    "\n",
    "import timeit\n",
    "tic=timeit.default_timer()\n",
    "\n",
    "media_path = \"/sharedfolder/sida_classifier/test_clips/20170814full.mp3\"\n",
    "\n",
    "snd = AudioFileClip.AudioFileClip(media_path)\n",
    "\n",
    "classifications = []\n",
    "\n",
    "for i in range(int(attk.duration(media_path)/resolution_secs)):\n",
    "    try:\n",
    "        snd.subclip(i * resolution_secs , (i * resolution_secs) + resolution_secs).write_audiofile('/tmp/temp_clip.wav')\n",
    "        classifications.append(classify_clip('/tmp/temp_clip.wav'))\n",
    "    except:\n",
    "        classifications.append(0.0)\n",
    "        print(\"Error: \" + str(i))"
   ]
  },
  {
   "cell_type": "code",
   "execution_count": null,
   "metadata": {
    "collapsed": true
   },
   "outputs": [],
   "source": [
    "print(\"Time elapsed: \"+str(timeit.default_timer() - tic))"
   ]
  },
  {
   "cell_type": "code",
   "execution_count": null,
   "metadata": {
    "collapsed": true
   },
   "outputs": [],
   "source": [
    "## Writing classification output to CSV\n",
    "\n",
    "classifier_threshold = 0.2      # Classifier values below this threshold will be discarded\n",
    "\n",
    "os.chdir('/sharedfolder/sida_classifier')\n",
    "\n",
    "csv_path = media_path[:-4]+'_mlpc2048_labels_'+str(resolution_secs)+'s.csv'\n",
    "\n",
    "counter=0\n",
    "\n",
    "with open(csv_path,'w') as fo:\n",
    "    duration = resolution_secs\n",
    "    for value in classifications:\n",
    "        if value >= classifier_threshold:\n",
    "            start = counter * resolution_secs\n",
    "            fo.write(str(start) + ',' + str(duration) +','+ str(value) + ',' + speaker_1_label + '\\n')\n",
    "        counter+=1"
   ]
  },
  {
   "cell_type": "code",
   "execution_count": null,
   "metadata": {
    "collapsed": true
   },
   "outputs": [],
   "source": []
  }
 ],
 "metadata": {
  "kernelspec": {
   "display_name": "Python 2",
   "language": "python",
   "name": "python2"
  },
  "language_info": {
   "codemirror_mode": {
    "name": "ipython",
    "version": 2
   },
   "file_extension": ".py",
   "mimetype": "text/x-python",
   "name": "python",
   "nbconvert_exporter": "python",
   "pygments_lexer": "ipython2",
   "version": "2.7.6"
  }
 },
 "nbformat": 4,
 "nbformat_minor": 2
}
