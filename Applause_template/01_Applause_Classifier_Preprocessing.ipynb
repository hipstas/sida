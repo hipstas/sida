{
 "cells": [
  {
   "cell_type": "markdown",
   "metadata": {},
   "source": [
    "# SIDA: Speaker Identification for Archives"
   ]
  },
  {
   "cell_type": "code",
   "execution_count": null,
   "metadata": {},
   "outputs": [],
   "source": [
    "import attk\n",
    "import os\n",
    "import csv\n",
    "import numpy as np\n",
    "import librosa\n",
    "import timeit\n",
    "import random\n",
    "import subprocess\n",
    "import urllib2\n",
    "from sklearn.externals import joblib\n",
    "from numpy import ma\n",
    "from aubio import source, pitch\n",
    "from moviepy.audio.io import AudioFileClip\n",
    "from IPython.display import display, Audio\n",
    "import pandas as pd\n",
    "\n",
    "!mkdir -p /sharedfolder/applause_classifier/\n",
    "\n",
    "os.chdir('/sharedfolder/applause_classifier/')\n",
    "\n",
    "training_audio_dir_name = \"Applause\"\n",
    "\n",
    "class_dir_pathname = '/sharedfolder/applause_classifier/_classes_' + training_audio_dir_name\n",
    "\n",
    "subprocess.call(['mkdir', '-p', class_dir_pathname])"
   ]
  },
  {
   "cell_type": "code",
   "execution_count": null,
   "metadata": {},
   "outputs": [],
   "source": [
    "## Downloading male and female training data\n",
    "# (Uncomment the commands below first.)\n",
    "\n",
    "os.chdir('/sharedfolder/applause_classifier/')\n",
    "\n",
    "#!wget -N http://xtra.arloproject.com/datasets/audio/Mozilla_CV_UBM_Subset/females_5k.zip\n",
    "#!wget -N http://xtra.arloproject.com/datasets/audio/Mozilla_CV_UBM_Subset/males_5k.zip\n",
    "#!wget -N http://xtra.arloproject.com/datasets/aapb-ubm/Male_AAPB_171110.zip\n",
    "#!wget -N http://xtra.arloproject.com/datasets/aapb-ubm/Female_AAPB_171110.zip\n",
    "\n",
    "#!unzip -o females_5k.zip\n",
    "#!unzip -o males_5k.zip\n",
    "#!unzip -o Male_AAPB_171110.zip\n",
    "#!unzip -o Female_AAPB_171110.zip"
   ]
  },
  {
   "cell_type": "code",
   "execution_count": null,
   "metadata": {},
   "outputs": [],
   "source": [
    "## Downloading applause training data\n",
    "# (Uncomment the command below first.)\n",
    "\n",
    "#!git clone https://github.com/hipstas/applause-classifier.git"
   ]
  },
  {
   "cell_type": "code",
   "execution_count": null,
   "metadata": {},
   "outputs": [],
   "source": [
    "## Creating directories for our two classes\n",
    "\n",
    "applause_path = os.path.join(class_dir_pathname, 'Applause')\n",
    "non_applause_path = os.path.join(class_dir_pathname, 'Non-Applause')\n",
    "\n",
    "subprocess.call(['mkdir', applause_path])\n",
    "subprocess.call(['mkdir', non_applause_path])"
   ]
  },
  {
   "cell_type": "code",
   "execution_count": null,
   "metadata": {},
   "outputs": [],
   "source": [
    "## Consolidating all non-applause clips in a single directory\n",
    "\n",
    "!mv females_5k/* '/sharedfolder/applause_classifier/_classes_Applause/Non-Applause'\n",
    "!mv males_5k/* '/sharedfolder/applause_classifier/_classes_Applause/Non-Applause'\n",
    "!mv Male_AAPB_171110/* '/sharedfolder/applause_classifier/_classes_Applause/Non-Applause'\n",
    "!mv Female_AAPB_171110/* '/sharedfolder/applause_classifier/_classes_Applause/Non-Applause'"
   ]
  },
  {
   "cell_type": "code",
   "execution_count": null,
   "metadata": {},
   "outputs": [],
   "source": [
    "os.chdir('/sharedfolder/applause_classifier/applause-classifier')\n",
    "\n",
    "!unzip -o *.zip"
   ]
  },
  {
   "cell_type": "code",
   "execution_count": null,
   "metadata": {},
   "outputs": [],
   "source": [
    "## Unzipping applause training data\n",
    "\n",
    "!unzip -o Applause_from_Bill_Clinton_speeches_1.zip\n",
    "!unzip -o Applause_from_Bill_Clinton_speeches_2.zip\n",
    "!unzip -o applause_pt1.zip\n",
    "!unzip -o applause_pt2.zip"
   ]
  },
  {
   "cell_type": "code",
   "execution_count": null,
   "metadata": {},
   "outputs": [],
   "source": [
    "## Moving all applause WAV clips to the Applause class directory\n",
    "\n",
    "!mv */*.wav '/sharedfolder/applause_classifier/_classes_Applause/Applause'"
   ]
  },
  {
   "cell_type": "code",
   "execution_count": null,
   "metadata": {},
   "outputs": [],
   "source": [
    "%%capture\n",
    "## Extracting features (MFCCs, deltas, and delta-deltas) from all clips, then writing features to CSVs\n",
    "# (Not that we are not extracting vowel segments like we do with speech classifiers.)\n",
    "\n",
    "os.chdir(class_dir_pathname)\n",
    "\n",
    "for dir_name in [item for item in os.listdir('./') if os.path.isdir(item)]:\n",
    "    print(\"> Starting \" + dir_name)\n",
    "    try:\n",
    "        os.chdir(os.path.join(class_dir_pathname, dir_name))\n",
    "        try: os.mkdir('./_mfccs_and_deltas')\n",
    "        except: pass\n",
    "        filenames = [item for item in os.listdir('./') if item[-4:].lower()=='.wav']\n",
    "        for filename in filenames:\n",
    "            csv_out_path = './_mfccs_and_deltas/' + filename[:-4] + '.mfcc.csv'\n",
    "            if not os.path.isfile(csv_out_path):\n",
    "                try:\n",
    "                    mfccs = attk.get_mfccs_and_deltas(filename, n_mfcc=30, n_fft=4096, freq_min=100, freq_max=16000)\n",
    "                    if len(mfccs) > 0:\n",
    "                        with open(csv_out_path, 'w') as fo:\n",
    "                            csv_writer = csv.writer(fo)\n",
    "                            csv_writer.writerows(mfccs)  \n",
    "                except Exception as e:\n",
    "                    print('FILE ERROR: ' + filename)\n",
    "                    print(e)\n",
    "    except Exception as e:\n",
    "        print('SKIPPING DIRECTORY: ' + dir_name)     ## Skipping class directories for which we didn't extract vowels\n",
    "        #print(e)"
   ]
  },
  {
   "cell_type": "code",
   "execution_count": null,
   "metadata": {},
   "outputs": [],
   "source": [
    "## Continue to the next notebook to train and run the applause classifier."
   ]
  }
 ],
 "metadata": {
  "kernelspec": {
   "display_name": "Python 2",
   "language": "python",
   "name": "python2"
  },
  "language_info": {
   "codemirror_mode": {
    "name": "ipython",
    "version": 2
   },
   "file_extension": ".py",
   "mimetype": "text/x-python",
   "name": "python",
   "nbconvert_exporter": "python",
   "pygments_lexer": "ipython2",
   "version": "2.7.14"
  }
 },
 "nbformat": 4,
 "nbformat_minor": 2
}
