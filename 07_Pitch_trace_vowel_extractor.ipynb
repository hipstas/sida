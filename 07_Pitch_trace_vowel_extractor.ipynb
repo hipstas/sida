{
 "cells": [
  {
   "cell_type": "code",
   "execution_count": null,
   "metadata": {
    "collapsed": true
   },
   "outputs": [],
   "source": [
    "import os\n",
    "import sys\n",
    "import numpy as np\n",
    "from numpy import ma\n",
    "from aubio import source, pitch\n",
    "from matplotlib import pyplot as plt\n",
    "from itertools import groupby\n",
    "from operator import itemgetter\n",
    "import subprocess\n",
    "import timeit\n",
    "from moviepy.audio.io import AudioFileClip\n",
    "\n",
    "os.chdir('/home/sharedfolder/The_World')\n",
    "\n",
    "%matplotlib inline"
   ]
  },
  {
   "cell_type": "code",
   "execution_count": null,
   "metadata": {
    "collapsed": true
   },
   "outputs": [],
   "source": [
    "\n",
    "def get_vowel_segments(media_path):\n",
    "    downsample = 1\n",
    "    samplerate = 44100 // downsample\n",
    "\n",
    "    win_s = 2048 // downsample # fft size\n",
    "    hop_s = 512  // downsample # hop size\n",
    "\n",
    "    s = source(media_path, samplerate, hop_s)\n",
    "    samplerate = s.samplerate\n",
    "\n",
    "    tolerance = 0.6\n",
    "\n",
    "    pitch_o = pitch(\"yin\", win_s, hop_s, samplerate)\n",
    "    pitch_o.set_unit(\"Hz\")\n",
    "    pitch_o.set_tolerance(tolerance)\n",
    "\n",
    "    pitches = []\n",
    "    confidences = []\n",
    "\n",
    "    # total number of frames read\n",
    "    total_frames = 0\n",
    "    samples=[]\n",
    "    pitches=[]\n",
    "    while True:\n",
    "        samples, read = s()\n",
    "        pitch_ = pitch_o(samples)[0]\n",
    "        #pitch = int(round(pitch))\n",
    "        confidence = pitch_o.get_confidence()\n",
    "        #print(\"%f %f %f\" % (total_frames / float(samplerate), pitch, confidence))\n",
    "        pitches += [pitch_]\n",
    "        confidences += [confidence]\n",
    "        total_frames += read\n",
    "        if read < hop_s: break\n",
    "\n",
    "    pitches = np.array(pitches)\n",
    "    confidences = np.array(confidences)\n",
    "\n",
    "    cleaned_pitches = ma.masked_where(confidences < tolerance, pitches)\n",
    "    cleaned_pitches = ma.masked_where(cleaned_pitches > 1000, cleaned_pitches)\n",
    "    return list(np.logical_not(cleaned_pitches.mask))\n",
    "\n",
    "\n",
    "\n",
    "# Takes list of 1-second segments classified as applause (1.0) or\n",
    "# non-applause (0.0) and returns list of 2-tuples specifying applause ranges:\n",
    "# (start time, duration)\n",
    "def vowels_to_ranges(vowel_bools):\n",
    "    vowel_nums = []\n",
    "    counter=0\n",
    "    for val in vowel_bools:\n",
    "        if val == True:\n",
    "            vowel_nums.append(counter)\n",
    "        counter+=1\n",
    "    ranges = []\n",
    "    for k, g in groupby(enumerate(vowel_nums), lambda (i,x):i-x):\n",
    "        group = map(itemgetter(1), g)\n",
    "        ranges.append((group[0], group[-1]))\n",
    "    ranges=[(i,(x+1)-i) for i,x in ranges]       # Adding 1 to make time range inclusive. Format: (start_time,duration)\n",
    "    return ranges\n",
    "\n",
    "\n",
    "\n",
    "## Returns duration of any media file using ffprobe\n",
    "def media_duration(media_path):\n",
    "    return float(subprocess.check_output(['ffprobe', '-v', 'quiet', '-of', 'csv=p=0', '-show_entries', 'format=duration', media_path]).strip())\n",
    "\n",
    "\n",
    "\n",
    "def extract_pairs(media_path,vowel_ranges):\n",
    "    snd = AudioFileClip.AudioFileClip(media_path)\n",
    "    file_duration = media_duration(media_path)\n",
    "    for pair in vowel_ranges:\n",
    "        if int(pair[1]) >= 4:\n",
    "            start, duration = pair\n",
    "            start=float(start)*(512/44100.0)\n",
    "            duration=float(duration)*(512/44100.0)\n",
    "            if start + duration > file_duration:\n",
    "                duration = file_duration - start\n",
    "            basename = media_path.split('/')[-1][:-4]\n",
    "            out_filename = basename+'_'+str(start)+'_'+str(duration)+'.wav'\n",
    "            snd.subclip(float(start),float(start)+float(duration)).write_audiofile(os.path.join('_vowel_clips',out_filename))\n",
    "\n",
    "\n",
    "def batch_extract_vowels(media_dir):\n",
    "    os.chdir(media_dir)\n",
    "\n",
    "    try: os.mkdir('_vowel_clips')\n",
    "    except: pass\n",
    "\n",
    "    filenames=[item for item in os.listdir('./') if item[-4:].lower() in ('.mp3','.wav')]\n",
    "\n",
    "    tic=timeit.default_timer()\n",
    "\n",
    "    for filename in filenames:\n",
    "        try:\n",
    "            vowel_bools = get_vowel_segments(filename)\n",
    "            vowel_ranges = vowels_to_ranges(vowel_bools)\n",
    "            extract_pairs(filename,vowel_ranges)\n",
    "        except: print(\"***** ERROR: \"+filename)\n",
    "\n",
    "    print(\"Time elapsed: \"+str(timeit.default_timer() - tic))\n",
    "\n"
   ]
  },
  {
   "cell_type": "code",
   "execution_count": null,
   "metadata": {},
   "outputs": [],
   "source": []
  },
  {
   "cell_type": "code",
   "execution_count": null,
   "metadata": {},
   "outputs": [],
   "source": [
    "class_dirs = [item for item in os.listdir('_classes') if item!='.DS_Store']\n",
    "\n",
    "class_dirs"
   ]
  },
  {
   "cell_type": "code",
   "execution_count": null,
   "metadata": {},
   "outputs": [],
   "source": [
    "%%capture\n",
    "# The line above prevents this cell from displaying text output while it runs.\n",
    "\n",
    "for dir_name in class_dirs:\n",
    "    media_dir='_classes/'+dir_name\n",
    "    batch_extract_vowels(media_dir)\n",
    "    os.chdir('/home/sharedfolder/The_World')\n",
    "    \n",
    "## You should stretch your legs and get a cup of coffee at this point. \n",
    "## Depending on the size of your collection, this may take a while."
   ]
  },
  {
   "cell_type": "code",
   "execution_count": null,
   "metadata": {},
   "outputs": [],
   "source": [
    "!pwd"
   ]
  },
  {
   "cell_type": "code",
   "execution_count": null,
   "metadata": {},
   "outputs": [],
   "source": [
    "os.chdir('/home/sharedfolder/The_World')\n",
    "!ls"
   ]
  },
  {
   "cell_type": "code",
   "execution_count": null,
   "metadata": {
    "collapsed": true
   },
   "outputs": [],
   "source": []
  },
  {
   "cell_type": "code",
   "execution_count": null,
   "metadata": {
    "collapsed": true
   },
   "outputs": [],
   "source": []
  },
  {
   "cell_type": "code",
   "execution_count": null,
   "metadata": {
    "collapsed": true
   },
   "outputs": [],
   "source": []
  },
  {
   "cell_type": "code",
   "execution_count": null,
   "metadata": {
    "collapsed": true
   },
   "outputs": [],
   "source": []
  },
  {
   "cell_type": "code",
   "execution_count": null,
   "metadata": {
    "collapsed": true
   },
   "outputs": [],
   "source": []
  },
  {
   "cell_type": "code",
   "execution_count": null,
   "metadata": {
    "collapsed": true
   },
   "outputs": [],
   "source": []
  },
  {
   "cell_type": "code",
   "execution_count": null,
   "metadata": {
    "collapsed": true
   },
   "outputs": [],
   "source": []
  },
  {
   "cell_type": "code",
   "execution_count": null,
   "metadata": {
    "collapsed": true
   },
   "outputs": [],
   "source": []
  },
  {
   "cell_type": "code",
   "execution_count": null,
   "metadata": {
    "collapsed": true
   },
   "outputs": [],
   "source": []
  },
  {
   "cell_type": "code",
   "execution_count": null,
   "metadata": {
    "collapsed": true
   },
   "outputs": [],
   "source": []
  },
  {
   "cell_type": "code",
   "execution_count": null,
   "metadata": {
    "collapsed": true
   },
   "outputs": [],
   "source": [
    "\n"
   ]
  },
  {
   "cell_type": "code",
   "execution_count": null,
   "metadata": {
    "collapsed": true
   },
   "outputs": [],
   "source": []
  },
  {
   "cell_type": "code",
   "execution_count": null,
   "metadata": {
    "collapsed": true
   },
   "outputs": [],
   "source": []
  },
  {
   "cell_type": "code",
   "execution_count": null,
   "metadata": {
    "collapsed": true
   },
   "outputs": [],
   "source": []
  },
  {
   "cell_type": "code",
   "execution_count": null,
   "metadata": {
    "collapsed": true
   },
   "outputs": [],
   "source": []
  },
  {
   "cell_type": "code",
   "execution_count": null,
   "metadata": {
    "collapsed": true
   },
   "outputs": [],
   "source": []
  },
  {
   "cell_type": "code",
   "execution_count": null,
   "metadata": {
    "collapsed": true
   },
   "outputs": [],
   "source": []
  },
  {
   "cell_type": "code",
   "execution_count": null,
   "metadata": {
    "collapsed": true
   },
   "outputs": [],
   "source": []
  },
  {
   "cell_type": "code",
   "execution_count": null,
   "metadata": {
    "collapsed": true
   },
   "outputs": [],
   "source": []
  },
  {
   "cell_type": "code",
   "execution_count": null,
   "metadata": {
    "collapsed": true
   },
   "outputs": [],
   "source": []
  },
  {
   "cell_type": "code",
   "execution_count": null,
   "metadata": {
    "collapsed": true
   },
   "outputs": [],
   "source": []
  },
  {
   "cell_type": "code",
   "execution_count": null,
   "metadata": {
    "collapsed": true
   },
   "outputs": [],
   "source": []
  },
  {
   "cell_type": "code",
   "execution_count": null,
   "metadata": {
    "collapsed": true
   },
   "outputs": [],
   "source": []
  },
  {
   "cell_type": "code",
   "execution_count": null,
   "metadata": {
    "collapsed": true
   },
   "outputs": [],
   "source": []
  },
  {
   "cell_type": "code",
   "execution_count": null,
   "metadata": {
    "collapsed": true
   },
   "outputs": [],
   "source": []
  },
  {
   "cell_type": "code",
   "execution_count": null,
   "metadata": {
    "collapsed": true
   },
   "outputs": [],
   "source": []
  },
  {
   "cell_type": "code",
   "execution_count": null,
   "metadata": {
    "collapsed": true
   },
   "outputs": [],
   "source": []
  },
  {
   "cell_type": "code",
   "execution_count": null,
   "metadata": {
    "collapsed": true
   },
   "outputs": [],
   "source": []
  },
  {
   "cell_type": "code",
   "execution_count": null,
   "metadata": {},
   "outputs": [],
   "source": [
    "media_path = \"/home/sharedfolder/Gist_labeled_clips_June_16_2017/Background_Speaker/SM6487149057_414.0.wav\"\n",
    "\n",
    "def trace_pitch(media_path):\n",
    "    downsample = 1\n",
    "    samplerate = 44100 // downsample\n",
    "\n",
    "    win_s = 2048 // downsample # fft size\n",
    "    hop_s = 512  // downsample # hop size\n",
    "\n",
    "    s = source(media_path, samplerate, hop_s)\n",
    "    samplerate = s.samplerate\n",
    "\n",
    "    tolerance = 0.6\n",
    "\n",
    "    pitch_o = pitch(\"yin\", win_s, hop_s, samplerate)\n",
    "    pitch_o.set_unit(\"Hz\")\n",
    "    pitch_o.set_tolerance(tolerance)\n",
    "\n",
    "    pitches = []\n",
    "    confidences = []\n",
    "\n",
    "    # total number of frames read\n",
    "    total_frames = 0\n",
    "    samples=[]\n",
    "    pitches=[]\n",
    "    while True:\n",
    "        samples, read = s()\n",
    "        pitch_ = pitch_o(samples)[0]\n",
    "        #pitch = int(round(pitch))\n",
    "        confidence = pitch_o.get_confidence()\n",
    "        #print(\"%f %f %f\" % (total_frames / float(samplerate), pitch, confidence))\n",
    "        pitches += [pitch_]\n",
    "        confidences += [confidence]\n",
    "        total_frames += read\n",
    "        if read < hop_s: break\n",
    "\n",
    "    pitches = np.array(pitches)\n",
    "    confidences = np.array(confidences)\n",
    "\n",
    "    cleaned_pitches = ma.masked_where(confidences < tolerance, pitches)\n",
    "    cleaned_pitches = ma.masked_where(cleaned_pitches > 1000, cleaned_pitches)\n",
    "\n",
    "    plt.figure(figsize=(10,5))\n",
    "    plt.plot(cleaned_pitches)\n",
    "    plt.show()\n",
    "\n",
    "trace_pitch(media_path)"
   ]
  },
  {
   "cell_type": "code",
   "execution_count": null,
   "metadata": {
    "collapsed": true
   },
   "outputs": [],
   "source": [
    "vowel_books = get_vowel_segments(media_path)\n",
    "\n",
    "plt.figure(figsize=(10,5))\n",
    "plt.plot(vowel_bools)\n",
    "plt.show()"
   ]
  },
  {
   "cell_type": "code",
   "execution_count": null,
   "metadata": {
    "collapsed": true
   },
   "outputs": [],
   "source": []
  }
 ],
 "metadata": {
  "kernelspec": {
   "display_name": "Python 2",
   "language": "python",
   "name": "python2"
  },
  "language_info": {
   "codemirror_mode": {
    "name": "ipython",
    "version": 2
   },
   "file_extension": ".py",
   "mimetype": "text/x-python",
   "name": "python",
   "nbconvert_exporter": "python",
   "pygments_lexer": "ipython2",
   "version": "2.7.6"
  }
 },
 "nbformat": 4,
 "nbformat_minor": 2
}
