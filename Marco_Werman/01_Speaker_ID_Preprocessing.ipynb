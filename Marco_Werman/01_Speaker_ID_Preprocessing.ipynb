{
 "cells": [
  {
   "cell_type": "markdown",
   "metadata": {},
   "source": [
    "# SIDA: Speaker Identification for Archives"
   ]
  },
  {
   "cell_type": "code",
   "execution_count": 1,
   "metadata": {
    "collapsed": true
   },
   "outputs": [],
   "source": [
    "import attk\n",
    "import os\n",
    "import csv\n",
    "import numpy as np\n",
    "import librosa\n",
    "import timeit\n",
    "import random\n",
    "import subprocess\n",
    "import unicodecsv\n",
    "import urllib2\n",
    "from sklearn.externals import joblib\n",
    "from numpy import ma\n",
    "from aubio import source, pitch\n",
    "from moviepy.audio.io import AudioFileClip\n",
    "from IPython.display import display, Audio\n",
    "import pandas as pd\n",
    "\n",
    "!mkdir -p /sharedfolder/sida_classifier/\n",
    "\n",
    "os.chdir('/sharedfolder/sida_classifier/')\n",
    "\n",
    "## Download audio files for training\n",
    "#### (You may want to comment out the lines below once the download is complete.)\n",
    "#!wget -N http://xtra.arloproject.com/datasets/audio/The_World_WGBH_100_episodes.zip\n",
    "#!unzip The_World_WGBH_100_episodes.zip\n",
    "\n",
    "training_audio_dir_name = \"The_World_WGBH_100_episodes\""
   ]
  },
  {
   "cell_type": "code",
   "execution_count": 2,
   "metadata": {},
   "outputs": [
    {
     "data": {
      "text/html": [
       "<div>\n",
       "<style>\n",
       "    .dataframe thead tr:only-child th {\n",
       "        text-align: right;\n",
       "    }\n",
       "\n",
       "    .dataframe thead th {\n",
       "        text-align: left;\n",
       "    }\n",
       "\n",
       "    .dataframe tbody tr th {\n",
       "        vertical-align: top;\n",
       "    }\n",
       "</style>\n",
       "<table border=\"1\" class=\"dataframe\">\n",
       "  <thead>\n",
       "    <tr style=\"text-align: right;\">\n",
       "      <th></th>\n",
       "      <th>Media file basename</th>\n",
       "      <th>Start time</th>\n",
       "      <th>Duration</th>\n",
       "      <th>Label</th>\n",
       "      <th>Labeled by</th>\n",
       "    </tr>\n",
       "  </thead>\n",
       "  <tbody>\n",
       "    <tr>\n",
       "      <th>0</th>\n",
       "      <td>cpb-aacip-15-zg6g15v54b__20131015TW_</td>\n",
       "      <td>3212.0</td>\n",
       "      <td>1.0</td>\n",
       "      <td>Male</td>\n",
       "      <td>Stephen R. McLaughlin</td>\n",
       "    </tr>\n",
       "    <tr>\n",
       "      <th>1</th>\n",
       "      <td>cpb-aacip-500-r785p23b</td>\n",
       "      <td>346.0</td>\n",
       "      <td>1.0</td>\n",
       "      <td>Female</td>\n",
       "      <td>Stephen R. McLaughlin</td>\n",
       "    </tr>\n",
       "    <tr>\n",
       "      <th>2</th>\n",
       "      <td>cpb-aacip-15-9jq0st8f__240747_20130619TW</td>\n",
       "      <td>451.0</td>\n",
       "      <td>1.0</td>\n",
       "      <td>Male</td>\n",
       "      <td>Stephen R. McLaughlin</td>\n",
       "    </tr>\n",
       "    <tr>\n",
       "      <th>3</th>\n",
       "      <td>cpb-aacip-15-ns0ks6jt4h__20130117TW_</td>\n",
       "      <td>2127.0</td>\n",
       "      <td>1.0</td>\n",
       "      <td>Female</td>\n",
       "      <td>Stephen R. McLaughlin</td>\n",
       "    </tr>\n",
       "    <tr>\n",
       "      <th>4</th>\n",
       "      <td>cpb-aacip-15-3n20c4t30z__20130925TW_</td>\n",
       "      <td>294.0</td>\n",
       "      <td>1.0</td>\n",
       "      <td>Female</td>\n",
       "      <td>Stephen R. McLaughlin</td>\n",
       "    </tr>\n",
       "  </tbody>\n",
       "</table>\n",
       "</div>"
      ],
      "text/plain": [
       "                        Media file basename  Start time  Duration   Label  \\\n",
       "0      cpb-aacip-15-zg6g15v54b__20131015TW_      3212.0       1.0    Male   \n",
       "1                    cpb-aacip-500-r785p23b       346.0       1.0  Female   \n",
       "2  cpb-aacip-15-9jq0st8f__240747_20130619TW       451.0       1.0    Male   \n",
       "3      cpb-aacip-15-ns0ks6jt4h__20130117TW_      2127.0       1.0  Female   \n",
       "4      cpb-aacip-15-3n20c4t30z__20130925TW_       294.0       1.0  Female   \n",
       "\n",
       "              Labeled by  \n",
       "0  Stephen R. McLaughlin  \n",
       "1  Stephen R. McLaughlin  \n",
       "2  Stephen R. McLaughlin  \n",
       "3  Stephen R. McLaughlin  \n",
       "4  Stephen R. McLaughlin  "
      ]
     },
     "execution_count": 2,
     "metadata": {},
     "output_type": "execute_result"
    }
   ],
   "source": [
    "## Download new 1-second labels\n",
    "\n",
    "csv_url = \"https://raw.githubusercontent.com/hipstas/aapb-speaker-labels/master/speaker_labels_randomized/The_World_WGBH_labels_100_episodes.csv\"\n",
    "\n",
    "csv_string = urllib2.urlopen(csv_url)\n",
    "\n",
    "train_table_df = pd.read_csv(csv_url)\n",
    "\n",
    "train_table_df.head()"
   ]
  },
  {
   "cell_type": "code",
   "execution_count": 3,
   "metadata": {
    "collapsed": true
   },
   "outputs": [],
   "source": [
    "## Choosing variables to extract and assigning variables we'll use below\n",
    "\n",
    "labels_to_use = ['Marco Werman', 'Male', 'Female']\n",
    "\n",
    "media_dir_pathname = '/sharedfolder/sida_classifier/' + training_audio_dir_name\n",
    "\n",
    "class_dir_pathname = '/sharedfolder/sida_classifier/_classes_' + training_audio_dir_name"
   ]
  },
  {
   "cell_type": "code",
   "execution_count": null,
   "metadata": {
    "collapsed": true
   },
   "outputs": [],
   "source": [
    "%%capture\n",
    "## Excerpting WAV clips corresponding to labels\n",
    "#### (This may take a while.)\n",
    "\n",
    "os.chdir('/sharedfolder/sida_classifier/')\n",
    "\n",
    "train_table_groups = train_table_df.groupby(['Media file basename', 'Label'])\n",
    "\n",
    "for name, group in train_table_groups:\n",
    "    list_of_lists = group.values.tolist()\n",
    "    basename, start, duration, label, labeled_by = list_of_lists[0]\n",
    "    filename = str(basename) + '.mp3'\n",
    "    media_path = os.path.join(media_dir_pathname, filename)\n",
    "    label_dir_pathname = str(os.path.join(class_dir_pathname, label.replace(' ','_')))\n",
    "    if label in labels_to_use:\n",
    "        subclip_pairs = []\n",
    "        for row in list_of_lists:\n",
    "            basename, start, duration, label, labeled_by = row\n",
    "            subclip_pairs.append((float(start), float(duration)))\n",
    "        try: subprocess.call(['mkdir', '-p', label_dir_pathname])\n",
    "        except: pass\n",
    "        try:\n",
    "            attk.subclip_list(media_path, subclip_pairs, label_dir_pathname)\n",
    "        except Exception as e: \n",
    "            print(e)"
   ]
  },
  {
   "cell_type": "code",
   "execution_count": null,
   "metadata": {
    "collapsed": true
   },
   "outputs": [],
   "source": [
    "%%capture\n",
    "## Extract vowel segments from labeled audio clips\n",
    "#### (This may take a while.)\n",
    "\n",
    "os.chdir(class_dir_pathname)\n",
    "\n",
    "for dir_name in [item for item in os.listdir('./') if os.path.isdir(item)]:\n",
    "    try:\n",
    "        attk.batch_extract_vowels(dir_name)\n",
    "    except Exception as e:\n",
    "        print(\"ERROR: \" + dir_name)\n",
    "        print(e)"
   ]
  },
  {
   "cell_type": "code",
   "execution_count": null,
   "metadata": {
    "collapsed": true
   },
   "outputs": [],
   "source": [
    "%%capture\n",
    "## Extract features (MFCCs, deltas, and delta-deltas) from Marco Werman & UBM vowel clips, then write features to CSVs\n",
    "\n",
    "os.chdir(class_dir_pathname)\n",
    "\n",
    "for dir_name in [item for item in os.listdir('./') if os.path.isdir(item)]:\n",
    "    print(\"> Starting \" + dir_name)\n",
    "    try:\n",
    "        os.chdir(os.path.join(class_dir_pathname, dir_name, '_vowel_clips'))\n",
    "        try: os.mkdir('../_vowel_mfccs_and_deltas')\n",
    "        except: pass\n",
    "        filenames = [item for item in os.listdir('./') if item[-4:].lower()=='.wav']\n",
    "        for filename in filenames:\n",
    "            csv_out_path = '../_vowel_mfccs_and_deltas/' + filename[:-4] + '.mfcc.csv'\n",
    "            if not os.path.isfile(csv_out_path):\n",
    "                try:\n",
    "                    mfccs = attk.get_mfccs_and_deltas(filename)\n",
    "                    if len(mfccs) > 0:\n",
    "                        with open(csv_out_path, 'w') as fo:\n",
    "                            csv_writer = csv.writer(fo)\n",
    "                            csv_writer.writerows(mfccs)  \n",
    "                except Exception as e:\n",
    "                    print('FILE ERROR: ' + filename)\n",
    "                    print(e)\n",
    "    except Exception as e:\n",
    "        print('SKIPPING DIRECTORY: ' + dir_name)     ## Skipping class directories for which we didn't extract vowels\n",
    "        #print(e)"
   ]
  },
  {
   "cell_type": "code",
   "execution_count": null,
   "metadata": {
    "collapsed": true
   },
   "outputs": [],
   "source": [
    "%%capture\n",
    "## Download and unzip prepared UBM feature set\n",
    "\n",
    "os.chdir('/sharedfolder/sida_classifier/')\n",
    "\n",
    "!wget -q https://github.com/hipstas/aapb-ubm/blob/master/UBM_feature_set/AAPB_female_vowel_mfccs_and_deltas.zip?raw=true -O AAPB_female_vowel_mfccs_and_deltas.zip\n",
    "!wget -q https://github.com/hipstas/aapb-ubm/blob/master/UBM_feature_set/AAPB_male_vowel_mfccs_and_deltas.zip?raw=true -O AAPB_male_vowel_mfccs_and_deltas.zip\n",
    "\n",
    "!unzip AAPB_female_vowel_mfccs_and_deltas.zip\n",
    "!unzip AAPB_male_vowel_mfccs_and_deltas.zip"
   ]
  },
  {
   "cell_type": "code",
   "execution_count": null,
   "metadata": {
    "collapsed": true
   },
   "outputs": [],
   "source": [
    "## Continue to the next notebook to train and run the speaker ID classifier."
   ]
  }
 ],
 "metadata": {
  "kernelspec": {
   "display_name": "Python 2",
   "language": "python",
   "name": "python2"
  },
  "language_info": {
   "codemirror_mode": {
    "name": "ipython",
    "version": 2
   },
   "file_extension": ".py",
   "mimetype": "text/x-python",
   "name": "python",
   "nbconvert_exporter": "python",
   "pygments_lexer": "ipython2",
   "version": "2.7.6"
  }
 },
 "nbformat": 4,
 "nbformat_minor": 2
}
